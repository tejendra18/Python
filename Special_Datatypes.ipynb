{
 "cells": [
  {
   "cell_type": "code",
   "execution_count": null,
   "id": "cd37e5e3",
   "metadata": {},
   "outputs": [
    {
     "name": "stdout",
     "output_type": "stream",
     "text": [
      "5\n",
      "['a', 3, 5]\n",
      "['a', 3, 'Hello']\n"
     ]
    }
   ],
   "source": [
    "##List\n",
    "a = ['a',3,5]\n",
    "print (a[2])\n",
    "print(a)\n",
    "\n",
    "##Change value in list\n",
    "a[2]= 'Hello'\n",
    "print(a) "
   ]
  },
  {
   "cell_type": "code",
   "execution_count": 4,
   "id": "925546b1",
   "metadata": {},
   "outputs": [
    {
     "name": "stdout",
     "output_type": "stream",
     "text": [
      "('a', 3, 5, 5, 5)\n",
      "(56.6, 78.6)\n",
      "a\n"
     ]
    },
    {
     "ename": "TypeError",
     "evalue": "'tuple' object does not support item assignment",
     "output_type": "error",
     "traceback": [
      "\u001b[31m---------------------------------------------------------------------------\u001b[39m",
      "\u001b[31mTypeError\u001b[39m                                 Traceback (most recent call last)",
      "\u001b[36mCell\u001b[39m\u001b[36m \u001b[39m\u001b[32mIn[4]\u001b[39m\u001b[32m, line 12\u001b[39m\n\u001b[32m      9\u001b[39m \u001b[38;5;28mprint\u001b[39m(b[\u001b[32m0\u001b[39m])\n\u001b[32m     11\u001b[39m \u001b[38;5;66;03m#Change a value in tuple\u001b[39;00m\n\u001b[32m---> \u001b[39m\u001b[32m12\u001b[39m b[\u001b[32m1\u001b[39m] = \u001b[32m5\u001b[39m\n\u001b[32m     13\u001b[39m \u001b[38;5;28mprint\u001b[39m(b)\n",
      "\u001b[31mTypeError\u001b[39m: 'tuple' object does not support item assignment"
     ]
    }
   ],
   "source": [
    "##Tuple\n",
    "b = ('a',3,5,5,5)\n",
    "print (b)\n",
    "\n",
    "coordinates = (56.6,78.6)\n",
    "print(coordinates)\n",
    "\n",
    "#Print a value in tuple\n",
    "print(b[0])\n",
    "\n",
    "#Change a value in tuple\n",
    "b[1] = 5\n",
    "print(b)"
   ]
  },
  {
   "cell_type": "code",
   "execution_count": null,
   "id": "53e43c3d",
   "metadata": {},
   "outputs": [
    {
     "name": "stdout",
     "output_type": "stream",
     "text": [
      "{1, 2, 3, 4, 5}\n"
     ]
    }
   ],
   "source": [
    "#Sets\n",
    "nums = {1,2,2,3,3,3,4,4,5}\n",
    "print(nums)"
   ]
  },
  {
   "cell_type": "code",
   "execution_count": 31,
   "id": "9e88c254",
   "metadata": {},
   "outputs": [
    {
     "name": "stdout",
     "output_type": "stream",
     "text": [
      "{'name': 'Ayush', 'Location': 'UP', 5: 'Hello'}\n",
      "Hello\n",
      "UP\n",
      "UP Hello Ayush\n"
     ]
    }
   ],
   "source": [
    "#Dictionaries\n",
    "user = {\n",
    "    'name':\"Ayush\",\n",
    "    'Location':'UP',\n",
    "    5:'Hello'\n",
    "}\n",
    "\n",
    "print (user)\n",
    "print(user[5])\n",
    "print(user['Location'])\n",
    "print(user['Location'],user[5],user['name'])"
   ]
  }
 ],
 "metadata": {
  "kernelspec": {
   "display_name": "base",
   "language": "python",
   "name": "python3"
  },
  "language_info": {
   "codemirror_mode": {
    "name": "ipython",
    "version": 3
   },
   "file_extension": ".py",
   "mimetype": "text/x-python",
   "name": "python",
   "nbconvert_exporter": "python",
   "pygments_lexer": "ipython3",
   "version": "3.13.5"
  }
 },
 "nbformat": 4,
 "nbformat_minor": 5
}
