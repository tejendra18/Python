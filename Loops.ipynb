{
 "cells": [
  {
   "cell_type": "markdown",
   "id": "d79a5ec5",
   "metadata": {},
   "source": [
    "LOOPS"
   ]
  },
  {
   "cell_type": "markdown",
   "id": "cfa87022",
   "metadata": {},
   "source": [
    "For Loop"
   ]
  },
  {
   "cell_type": "code",
   "execution_count": 4,
   "id": "e77a553c",
   "metadata": {},
   "outputs": [
    {
     "name": "stdout",
     "output_type": "stream",
     "text": [
      "17\n",
      "34\n",
      "51\n",
      "68\n",
      "85\n",
      "102\n",
      "119\n",
      "136\n",
      "153\n",
      "170\n"
     ]
    }
   ],
   "source": [
    "for i in range (17,171,17):\n",
    "    print(i)"
   ]
  },
  {
   "cell_type": "code",
   "execution_count": null,
   "id": "c28f0415",
   "metadata": {},
   "outputs": [
    {
     "name": "stdout",
     "output_type": "stream",
     "text": [
      "2\n",
      "5\n",
      "8\n"
     ]
    }
   ],
   "source": [
    "# Practise\n",
    "\n",
    "for i in range (2,10,3):\n",
    "    print(i)"
   ]
  },
  {
   "cell_type": "code",
   "execution_count": 11,
   "id": "c79250e5",
   "metadata": {},
   "outputs": [
    {
     "name": "stdout",
     "output_type": "stream",
     "text": [
      "1\n",
      "3\n",
      "5\n",
      "7\n",
      "9\n",
      "11\n"
     ]
    }
   ],
   "source": [
    "# WAP to print all odd numbers from 1 to 12\n",
    "\n",
    "for i in range (1,13):\n",
    "    if (i%2!=0):\n",
    "        print(i)"
   ]
  },
  {
   "cell_type": "code",
   "execution_count": 19,
   "id": "9f26f23f",
   "metadata": {},
   "outputs": [
    {
     "name": "stdout",
     "output_type": "stream",
     "text": [
      "orange*orange\n",
      "apple*apple\n",
      "banana*banana\n",
      "kiwi*kiwi\n",
      "grapes*grapes\n",
      "orangeapplebananakiwigrapes"
     ]
    }
   ],
   "source": [
    "fruits = ['orange','apple','banana','kiwi','grapes']\n",
    "\n",
    "for i in fruits:\n",
    "    print(i,i,sep='*')\n",
    "\n",
    "\n",
    "for i in fruits:\n",
    "    print(i,end='')"
   ]
  },
  {
   "cell_type": "code",
   "execution_count": 29,
   "id": "72d5a8ed",
   "metadata": {},
   "outputs": [
    {
     "name": "stdout",
     "output_type": "stream",
     "text": [
      "24 *  1 = 24\n",
      "24 *  2 = 48\n",
      "24 *  3 = 72\n",
      "24 *  4 = 96\n",
      "24 *  5 = 120\n",
      "24 *  6 = 144\n",
      "24 *  7 = 168\n",
      "24 *  8 = 192\n",
      "24 *  9 = 216\n",
      "24 *  10 = 240\n",
      "24 * 1 = 24\n",
      "24 * 2 = 48\n",
      "24 * 3 = 72\n",
      "24 * 4 = 96\n",
      "24 * 5 = 120\n",
      "24 * 6 = 144\n",
      "24 * 7 = 168\n",
      "24 * 8 = 192\n",
      "24 * 9 = 216\n",
      "24 * 10 = 240\n"
     ]
    }
   ],
   "source": [
    "#WAP to print the table of 24 till 10\n",
    "\n",
    "for i in range(1,11):\n",
    "    print('24 * ',(i),'=',(24*i))\n",
    "\n",
    "#Using f strings\n",
    "for i in range (1,11):\n",
    "    print(f\"24 * {i} = {24*i}\")\n"
   ]
  },
  {
   "cell_type": "code",
   "execution_count": 33,
   "id": "d38f1436",
   "metadata": {},
   "outputs": [
    {
     "name": "stdout",
     "output_type": "stream",
     "text": [
      "6 9 12 15 18 21 24 27 30 33 36 39 42 45 48 51 54 57 60 63 66 69 72 75 78 81 84 87 90 93 96 99 102 105 108 111 114 117 120 123 126 129 132 135 138 141 144 147 150 153 156 159 162 165 168 171 174 177 180 183 186 189 192 195 198 201 204 207 210 213 216 219 222 225 228 231 234 237 240 243 246 249 252 255 258 261 264 267 270 273 276 279 282 285 288 291 294 297 300 303 306 309 312 315 318 321 324 327 330 333 336 339 342 345 348 351 354 357 360 363 366 369 372 375 378 381 384 387 390 393 396 399 402 405 408 411 414 417 420 423 426 429 432 435 438 441 444 447 450 453 456 459 462 465 468 471 474 477 480 483 486 489 492 495 498 501 504 507 510 513 516 519 522 525 528 531 534 537 540 543 546 549 552 555 558 561 564 567 570 573 576 579 582 585 588 591 594 597 600 603 606 609 612 615 618 621 624 627 630 633 636 639 642 645 648 651 654 657 660 663 666 669 672 675 678 681 684 687 690 693 696 699 702 705 708 711 714 717 720 "
     ]
    }
   ],
   "source": [
    "#WAP to find all the numbers divisible by 3 from a range entered by the user\n",
    "\n",
    "a = int(input('Enter the number from where you wanna start'))\n",
    "b = int(input('Enter the number till where you want to go'))\n",
    "for i in range(a,b):\n",
    "    if(i%3==0):\n",
    "        print(i,end=\" \")\n"
   ]
  },
  {
   "cell_type": "code",
   "execution_count": 36,
   "id": "5154f52c",
   "metadata": {},
   "outputs": [
    {
     "name": "stdout",
     "output_type": "stream",
     "text": [
      "2 4 6 8 10 12 14 16 18 20 22 24 26 28 30 32 34 36 38 40 42 44 46 48 50 52 54 56 58 60 62 64 66 68 70 72 74 76 78 80 82 84 86 88 90 92 94 96 98 100 "
     ]
    }
   ],
   "source": [
    "# WAP to find all even numbers form 1 to 100\n",
    "\n",
    "for i in range(1,101):\n",
    "    if(i%2==0):\n",
    "        print(i,end=\" \")\n"
   ]
  },
  {
   "cell_type": "code",
   "execution_count": 39,
   "id": "40a5d333",
   "metadata": {},
   "outputs": [
    {
     "name": "stdout",
     "output_type": "stream",
     "text": [
      "350 385 420 455 490 525 560 595 630 665 700 735 770 805 840 875 910 945 980 1015 1050 1085 1120 1155 1190 1225 1260 1295 1330 1365 1400 1435 1470 1505 1540 1575 1610 1645 1680 1715 1750 1785 1820 1855 1890 1925 1960 1995 2030 2065 2100 2135 2170 2205 2240 2275 2310 2345 2380 2415 2450 2485 2520 2555 2590 2625 2660 2695 2730 2765 2800 2835 2870 2905 2940 2975 3010 3045 3080 3115 3150 3185 3220 3255 3290 3325 3360 3395 3430 3465 3500 3535 3570 3605 3640 3675 3710 3745 3780 3815 3850 3885 3920 3955 3990 4025 4060 4095 4130 4165 4200 4235 4270 4305 4340 4375 4410 4445 4480 4515 4550 "
     ]
    }
   ],
   "source": [
    "#WAP to find the numbers between 323 and 4567 which are divisible by 7 and 5\n",
    "\n",
    "for  i in range(323,4568):\n",
    "    if(i%7==0 and i%5==0):\n",
    "        print(i,end = ' ')"
   ]
  },
  {
   "cell_type": "code",
   "execution_count": 53,
   "id": "f11a6713",
   "metadata": {},
   "outputs": [
    {
     "name": "stdout",
     "output_type": "stream",
     "text": [
      "1\n",
      "3\n",
      "6\n",
      "10\n",
      "15\n",
      "21\n",
      "28\n",
      "36\n",
      "45\n",
      "55\n",
      "66\n",
      "78\n",
      "91\n",
      "105\n",
      "120\n",
      "136\n",
      "153\n",
      "171\n",
      "190\n",
      "210\n",
      "231\n",
      "253\n",
      "276\n",
      "300\n",
      "325\n",
      "351\n",
      "378\n",
      "406\n",
      "435\n",
      "465\n",
      "496\n",
      "528\n",
      "561\n",
      "595\n",
      "630\n",
      "666\n",
      "703\n",
      "741\n",
      "780\n",
      "820\n",
      "861\n",
      "903\n",
      "946\n",
      "990\n",
      "1035\n",
      "1081\n",
      "1128\n",
      "1176\n",
      "1225\n",
      "1275\n",
      "1326\n",
      "1378\n",
      "1431\n",
      "1485\n",
      "1540\n",
      "1596\n",
      "1653\n",
      "1711\n",
      "1770\n",
      "1830\n",
      "1891\n",
      "1953\n",
      "2016\n",
      "2080\n",
      "2145\n",
      "2211\n",
      "2278\n",
      "2346\n",
      "2415\n",
      "2485\n",
      "2556\n",
      "2628\n",
      "2701\n",
      "2775\n",
      "2850\n",
      "2926\n",
      "3003\n",
      "3081\n",
      "3160\n",
      "3240\n",
      "3321\n",
      "3403\n",
      "3486\n",
      "3570\n",
      "3655\n",
      "3741\n",
      "3828\n",
      "3916\n",
      "4005\n",
      "4095\n",
      "4186\n",
      "4278\n",
      "4371\n",
      "4465\n",
      "4560\n",
      "4656\n",
      "4753\n",
      "4851\n",
      "4950\n",
      "5050\n"
     ]
    }
   ],
   "source": [
    "#WAP to find the sum of first 100 natural numbers \n",
    "c=0\n",
    "for i in range(1,101):\n",
    "    c = c+i\n",
    "    print(c)"
   ]
  },
  {
   "cell_type": "markdown",
   "id": "45e30074",
   "metadata": {},
   "source": [
    "While LOOP"
   ]
  },
  {
   "cell_type": "code",
   "execution_count": 56,
   "id": "620e008a",
   "metadata": {},
   "outputs": [
    {
     "name": "stdout",
     "output_type": "stream",
     "text": [
      "24*1=24\n",
      "24*2=48\n",
      "24*3=72\n",
      "24*4=96\n",
      "24*5=120\n",
      "24*6=144\n",
      "24*7=168\n",
      "24*8=192\n",
      "24*9=216\n",
      "24*10=240\n"
     ]
    }
   ],
   "source": [
    "#WAP to print the table of 24 till 10\n",
    "\n",
    "num=1\n",
    "while(num<=10):\n",
    "    print(f'24*{num}={24*num}')\n",
    "    num = num+1\n",
    "          "
   ]
  },
  {
   "cell_type": "code",
   "execution_count": 57,
   "id": "bcb9541e",
   "metadata": {},
   "outputs": [
    {
     "name": "stdout",
     "output_type": "stream",
     "text": [
      "1\n",
      "3\n",
      "6\n",
      "10\n",
      "15\n",
      "21\n",
      "28\n",
      "36\n",
      "45\n",
      "55\n",
      "66\n",
      "78\n",
      "91\n",
      "105\n",
      "120\n",
      "136\n",
      "153\n",
      "171\n",
      "190\n",
      "210\n",
      "231\n",
      "253\n",
      "276\n",
      "300\n",
      "325\n",
      "351\n",
      "378\n",
      "406\n",
      "435\n",
      "465\n",
      "496\n",
      "528\n",
      "561\n",
      "595\n",
      "630\n",
      "666\n",
      "703\n",
      "741\n",
      "780\n",
      "820\n",
      "861\n",
      "903\n",
      "946\n",
      "990\n",
      "1035\n",
      "1081\n",
      "1128\n",
      "1176\n",
      "1225\n",
      "1275\n",
      "1326\n",
      "1378\n",
      "1431\n",
      "1485\n",
      "1540\n",
      "1596\n",
      "1653\n",
      "1711\n",
      "1770\n",
      "1830\n",
      "1891\n",
      "1953\n",
      "2016\n",
      "2080\n",
      "2145\n",
      "2211\n",
      "2278\n",
      "2346\n",
      "2415\n",
      "2485\n",
      "2556\n",
      "2628\n",
      "2701\n",
      "2775\n",
      "2850\n",
      "2926\n",
      "3003\n",
      "3081\n",
      "3160\n",
      "3240\n",
      "3321\n",
      "3403\n",
      "3486\n",
      "3570\n",
      "3655\n",
      "3741\n",
      "3828\n",
      "3916\n",
      "4005\n",
      "4095\n",
      "4186\n",
      "4278\n",
      "4371\n",
      "4465\n",
      "4560\n",
      "4656\n",
      "4753\n",
      "4851\n",
      "4950\n",
      "5050\n"
     ]
    }
   ],
   "source": [
    "#WAP to find the sum of first 100 natural numbers\n",
    "\n",
    "i=1\n",
    "sum=0\n",
    "while(i<=100):\n",
    "    sum+=i\n",
    "    print(sum)\n",
    "    i+=1\n"
   ]
  },
  {
   "cell_type": "markdown",
   "id": "c49b4943",
   "metadata": {},
   "source": [
    "BREAK and CONTINUE"
   ]
  },
  {
   "cell_type": "markdown",
   "id": "7d900c71",
   "metadata": {},
   "source": [
    "BREAK: Break statement ends the loop "
   ]
  },
  {
   "cell_type": "code",
   "execution_count": 61,
   "id": "08e87cb2",
   "metadata": {},
   "outputs": [
    {
     "name": "stdout",
     "output_type": "stream",
     "text": [
      "orange\n",
      "apple\n",
      "banana\n"
     ]
    }
   ],
   "source": [
    "fruits =['orange','apple','banana','kiwi','grapes']\n",
    "for i in fruits:\n",
    "    if (i== 'kiwi'):\n",
    "        break\n",
    "    print(i)\n",
    "\n"
   ]
  },
  {
   "cell_type": "markdown",
   "id": "1b740697",
   "metadata": {},
   "source": [
    "CONTINUE : Continue statement skips the current loop"
   ]
  },
  {
   "cell_type": "code",
   "execution_count": 62,
   "id": "99a4d4c4",
   "metadata": {},
   "outputs": [
    {
     "name": "stdout",
     "output_type": "stream",
     "text": [
      "orange\n",
      "apple\n",
      "kiwi\n",
      "grapes\n"
     ]
    }
   ],
   "source": [
    "fruits =['orange','apple','banana','kiwi','grapes']\n",
    "for i in fruits:\n",
    "    if(i=='banana'):\n",
    "        continue\n",
    "    print(i)"
   ]
  }
 ],
 "metadata": {
  "kernelspec": {
   "display_name": "base",
   "language": "python",
   "name": "python3"
  },
  "language_info": {
   "codemirror_mode": {
    "name": "ipython",
    "version": 3
   },
   "file_extension": ".py",
   "mimetype": "text/x-python",
   "name": "python",
   "nbconvert_exporter": "python",
   "pygments_lexer": "ipython3",
   "version": "3.13.5"
  }
 },
 "nbformat": 4,
 "nbformat_minor": 5
}
