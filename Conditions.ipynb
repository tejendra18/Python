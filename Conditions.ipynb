{
 "cells": [
  {
   "cell_type": "code",
   "execution_count": 14,
   "id": "1ca7ee09",
   "metadata": {},
   "outputs": [
    {
     "name": "stdout",
     "output_type": "stream",
     "text": [
      "Eligible\n"
     ]
    }
   ],
   "source": [
    "#If else\n",
    "\n",
    "a = (input('Enter age'))\n",
    "if (a>= '18'):\n",
    " print('Eligible')\n",
    "else:\n",
    " print('Not Eligible')"
   ]
  },
  {
   "cell_type": "code",
   "execution_count": 18,
   "id": "0f2de40a",
   "metadata": {},
   "outputs": [
    {
     "name": "stdout",
     "output_type": "stream",
     "text": [
      "Eligible\n"
     ]
    }
   ],
   "source": [
    "a = int(input('Enter age'))\n",
    "if (a>= 18):\n",
    " print('Eligible')\n",
    "else:\n",
    " print('Not Eligible')"
   ]
  },
  {
   "cell_type": "code",
   "execution_count": null,
   "id": "86204e2e",
   "metadata": {},
   "outputs": [
    {
     "name": "stdout",
     "output_type": "stream",
     "text": [
      "onions\n"
     ]
    }
   ],
   "source": [
    "topping = input(\"Choose a pizza topping (paneer,mushrooms or onion)\").lower()\n",
    "\n",
    "if (topping) == 'paneer':\n",
    " print('Paneer')\n",
    "elif topping == 'mushrooms':\n",
    " print('mushrooms')\n",
    "elif topping == 'onions':\n",
    " print('onions')\n",
    "else :  \n",
    " print('Wrong')"
   ]
  },
  {
   "cell_type": "code",
   "execution_count": 44,
   "id": "df5efe08",
   "metadata": {},
   "outputs": [
    {
     "name": "stdout",
     "output_type": "stream",
     "text": [
      "Odd\n"
     ]
    }
   ],
   "source": [
    "#WAP a program to check ever or odd\n",
    "\n",
    "a = int(input('Enter'))\n",
    "if a % 2 == 0:\n",
    "    print('Even')\n",
    "elif a % 2 != 0:\n",
    "    print('Odd')"
   ]
  },
  {
   "cell_type": "code",
   "execution_count": 3,
   "id": "02d8a9ea",
   "metadata": {},
   "outputs": [
    {
     "name": "stdout",
     "output_type": "stream",
     "text": [
      "Wrong\n"
     ]
    }
   ],
   "source": [
    "#WAP to check if a number is +ve or -ve\n",
    "\n",
    "a = int(input())\n",
    "if a>0:\n",
    "    print('+ve')\n",
    "elif a<0:\n",
    "    print('-ve')\n",
    "else :\n",
    "    print('Wrong')        "
   ]
  },
  {
   "cell_type": "code",
   "execution_count": 50,
   "id": "74b27a83",
   "metadata": {},
   "outputs": [
    {
     "name": "stdout",
     "output_type": "stream",
     "text": [
      "9\n"
     ]
    }
   ],
   "source": [
    "#WAP to find largetst of three numbers\n",
    "\n",
    "a = int(input())\n",
    "b= int(input())\n",
    "c = int(input())\n",
    "\n",
    "if a>b and a>c:\n",
    "    print(a)\n",
    "elif b>a and b>c:\n",
    "    print (b)\n",
    "else :\n",
    "    print (c)    "
   ]
  }
 ],
 "metadata": {
  "kernelspec": {
   "display_name": "base",
   "language": "python",
   "name": "python3"
  },
  "language_info": {
   "codemirror_mode": {
    "name": "ipython",
    "version": 3
   },
   "file_extension": ".py",
   "mimetype": "text/x-python",
   "name": "python",
   "nbconvert_exporter": "python",
   "pygments_lexer": "ipython3",
   "version": "3.13.5"
  }
 },
 "nbformat": 4,
 "nbformat_minor": 5
}
