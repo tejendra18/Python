{
 "cells": [
  {
   "cell_type": "code",
   "execution_count": 16,
   "id": "ef254322",
   "metadata": {},
   "outputs": [
    {
     "name": "stdout",
     "output_type": "stream",
     "text": [
      "Hello Buddy\n"
     ]
    }
   ],
   "source": [
    "file=open('Text.txt','r') #open file in read mode\n",
    "print(file.read())"
   ]
  },
  {
   "cell_type": "code",
   "execution_count": 25,
   "id": "83f6ce2e",
   "metadata": {},
   "outputs": [
    {
     "name": "stdout",
     "output_type": "stream",
     "text": [
      "File written successfully\n",
      "Hello Buddy\n"
     ]
    }
   ],
   "source": [
    "file = open('Text.txt','w') #open file in write mode\n",
    "file.write(\"Hello Buddy\")\n",
    "print('File written successfully')\n",
    "file = open('Text.txt','r') #open file in read mode\n",
    "print(file.read())\n"
   ]
  },
  {
   "cell_type": "code",
   "execution_count": 18,
   "id": "8dff7f7f",
   "metadata": {},
   "outputs": [
    {
     "name": "stdout",
     "output_type": "stream",
     "text": [
      "File written successfully\n",
      "Hello Buddy\n",
      "Hello Again\n"
     ]
    }
   ],
   "source": [
    "file = open('Text.txt','a') #open file in append mode\n",
    "file.write(\"\\nHello Again\")\n",
    "print('File written successfully')\n",
    "file = open('Text.txt','r') #open file in read mode\n",
    "print(file.read())"
   ]
  },
  {
   "cell_type": "code",
   "execution_count": 19,
   "id": "e2a22528",
   "metadata": {},
   "outputs": [],
   "source": [
    "import os"
   ]
  },
  {
   "cell_type": "code",
   "execution_count": 20,
   "id": "0de00c1b",
   "metadata": {},
   "outputs": [
    {
     "name": "stdout",
     "output_type": "stream",
     "text": [
      "c:\\Users\\singh\\Desktop\\Python\n"
     ]
    }
   ],
   "source": [
    "#to get current working directory\n",
    "print(os.getcwd())"
   ]
  },
  {
   "cell_type": "code",
   "execution_count": 21,
   "id": "a8da7ff4",
   "metadata": {},
   "outputs": [
    {
     "name": "stdout",
     "output_type": "stream",
     "text": [
      "files in the current working directory ['.git', 'Conditions.ipynb', 'Data Srtuctures', 'Datatype.ipynb', 'Filehandling.ipynb', 'Loops.ipynb', 'Operators.ipynb', 'Practise.ipynb', 'Special_Datatypes.ipynb', 'Text.txt']\n"
     ]
    }
   ],
   "source": [
    "files = os.listdir()\n",
    "print('files in the current working directory',files)"
   ]
  },
  {
   "cell_type": "code",
   "execution_count": 22,
   "id": "0d1eded2",
   "metadata": {},
   "outputs": [
    {
     "name": "stdout",
     "output_type": "stream",
     "text": [
      "files in the current working directory ['Assassin4.ini', 'GFXSettings.AC4BFSP.xml']\n"
     ]
    }
   ],
   "source": [
    "files = os.listdir(r\"C:\\Users\\singh\\OneDrive\\Documents\\Assassin's Creed IV Black Flag\")\n",
    "print('files in the current working directory',files)"
   ]
  },
  {
   "cell_type": "code",
   "execution_count": 23,
   "id": "877950ff",
   "metadata": {},
   "outputs": [
    {
     "name": "stdout",
     "output_type": "stream",
     "text": [
      "=> D:\\gta 5\n",
      "📁 ['Grand Theft Auto V [FitGirl Repack]', 'New folder', 'winrar']\n",
      "📃 []\n",
      "=> D:\\gta 5\\Grand Theft Auto V [FitGirl Repack]\n",
      "📁 ['MD5']\n",
      "📃 ['fg-01.bin', 'fg-02.bin', 'fg-03.bin', 'fg-04.bin', 'fg-05.bin', 'fg-06.bin', 'fg-07.bin', 'fg-08.bin', 'fg-09.bin', 'fg-10.bin', 'fg-11.bin', 'setup.exe', 'Verify BIN files before installation.bat']\n",
      "=> D:\\gta 5\\Grand Theft Auto V [FitGirl Repack]\\MD5\n",
      "📁 []\n",
      "📃 ['fitgirl-bins.md5', 'QuickSFV.EXE', 'QuickSFV.ini']\n",
      "=> D:\\gta 5\\New folder\n",
      "📁 []\n",
      "📃 []\n",
      "=> D:\\gta 5\\winrar\n",
      "📁 []\n",
      "📃 ['7zxa.dll', 'Default.SFX', 'Default64.SFX', 'Descript.ion', 'License.txt', 'Order.htm', 'Rar.exe', 'Rar.txt', 'RarExt.dll', 'RarExt32.dll', 'RarExtInstaller.exe', 'RarExtLogo.altform-unplated_targetsize-32.png', 'RarExtLogo.altform-unplated_targetsize-48.png', 'RarExtLogo.altform-unplated_targetsize-64.png', 'RarExtPackage.msix', 'RarFiles.lst', 'ReadMe.txt', 'Resources.pri', 'Uninstall.exe', 'Uninstall.lst', 'UnRAR.exe', 'WhatsNew.txt', 'WinCon.SFX', 'WinCon64.SFX', 'WinRAR.chm', 'WinRAR.exe', 'Zip.SFX', 'Zip64.SFX']\n",
      "Total Files 44\n"
     ]
    }
   ],
   "source": [
    "total_files = 0\n",
    "for path,folders, files in os.walk(r\"D:\\gta 5\"):\n",
    "    print('=>',path)\n",
    "    print('📁',folders)\n",
    "    print('📃',files)\n",
    "    total_files+=len(files)\n",
    "print(\"Total Files\",total_files)\n"
   ]
  },
  {
   "cell_type": "code",
   "execution_count": null,
   "id": "05fabe6d",
   "metadata": {},
   "outputs": [],
   "source": []
  }
 ],
 "metadata": {
  "kernelspec": {
   "display_name": "base",
   "language": "python",
   "name": "python3"
  },
  "language_info": {
   "codemirror_mode": {
    "name": "ipython",
    "version": 3
   },
   "file_extension": ".py",
   "mimetype": "text/x-python",
   "name": "python",
   "nbconvert_exporter": "python",
   "pygments_lexer": "ipython3",
   "version": "3.13.5"
  }
 },
 "nbformat": 4,
 "nbformat_minor": 5
}
