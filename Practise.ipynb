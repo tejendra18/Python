{
 "cells": [
  {
   "cell_type": "code",
   "execution_count": 1,
   "id": "4f93a96a",
   "metadata": {},
   "outputs": [
    {
     "data": {
      "text/plain": [
       "True"
      ]
     },
     "execution_count": 1,
     "metadata": {},
     "output_type": "execute_result"
    }
   ],
   "source": [
    "x = 10 \n",
    "y = 10\n",
    "x is y"
   ]
  },
  {
   "cell_type": "code",
   "execution_count": 28,
   "id": "b268ed6a",
   "metadata": {},
   "outputs": [
    {
     "data": {
      "text/plain": [
       "False"
      ]
     },
     "execution_count": 28,
     "metadata": {},
     "output_type": "execute_result"
    }
   ],
   "source": [
    "x = [1,2,3]\n",
    "y = [1,2,3]\n",
    "x is y\n",
    "## List aur tuple main same position nahin hai par auron main hai"
   ]
  },
  {
   "cell_type": "code",
   "execution_count": 23,
   "id": "1da935cb",
   "metadata": {},
   "outputs": [
    {
     "data": {
      "text/plain": [
       "True"
      ]
     },
     "execution_count": 23,
     "metadata": {},
     "output_type": "execute_result"
    }
   ],
   "source": [
    "x = 52\n",
    "y = 52\n",
    "y is x"
   ]
  },
  {
   "cell_type": "code",
   "execution_count": 29,
   "id": "9e3bf4df",
   "metadata": {},
   "outputs": [
    {
     "name": "stdout",
     "output_type": "stream",
     "text": [
      "True\n"
     ]
    }
   ],
   "source": [
    "x = [1,2,3]\n",
    "y = 1\n",
    "print(y in x) "
   ]
  },
  {
   "cell_type": "code",
   "execution_count": 30,
   "id": "f2997258",
   "metadata": {},
   "outputs": [
    {
     "data": {
      "text/plain": [
       "False"
      ]
     },
     "execution_count": 30,
     "metadata": {},
     "output_type": "execute_result"
    }
   ],
   "source": [
    "x = {1,2,3}\n",
    "y = {1,2,3}\n",
    "x is y"
   ]
  },
  {
   "cell_type": "code",
   "execution_count": 31,
   "id": "8578e228",
   "metadata": {},
   "outputs": [
    {
     "data": {
      "text/plain": [
       "True"
      ]
     },
     "execution_count": 31,
     "metadata": {},
     "output_type": "execute_result"
    }
   ],
   "source": [
    "x = 5\n",
    "y = 5\n",
    "x is y"
   ]
  },
  {
   "cell_type": "code",
   "execution_count": 4,
   "id": "938b85e2",
   "metadata": {},
   "outputs": [
    {
     "name": "stdout",
     "output_type": "stream",
     "text": [
      "Hello 5\n"
     ]
    }
   ],
   "source": [
    "print(\"Hello\",5)"
   ]
  },
  {
   "cell_type": "code",
   "execution_count": 7,
   "id": "c324d6b9",
   "metadata": {},
   "outputs": [
    {
     "name": "stdout",
     "output_type": "stream",
     "text": [
      "<class 'int'>\n"
     ]
    }
   ],
   "source": [
    "print(type(int(5.0)))"
   ]
  },
  {
   "cell_type": "code",
   "execution_count": 8,
   "id": "9ec0235b",
   "metadata": {},
   "outputs": [
    {
     "data": {
      "text/plain": [
       "8"
      ]
     },
     "execution_count": 8,
     "metadata": {},
     "output_type": "execute_result"
    }
   ],
   "source": [
    "5\n",
    "6\n",
    "8"
   ]
  },
  {
   "cell_type": "code",
   "execution_count": 10,
   "id": "016770d9",
   "metadata": {},
   "outputs": [
    {
     "data": {
      "text/plain": [
       "0.5"
      ]
     },
     "execution_count": 10,
     "metadata": {},
     "output_type": "execute_result"
    }
   ],
   "source": [
    ".5"
   ]
  },
  {
   "cell_type": "code",
   "execution_count": 13,
   "id": "93db9485",
   "metadata": {},
   "outputs": [
    {
     "name": "stdout",
     "output_type": "stream",
     "text": [
      "<class 'int'>\n"
     ]
    }
   ],
   "source": [
    "print(type(int(True)))"
   ]
  },
  {
   "cell_type": "code",
   "execution_count": 19,
   "id": "ccac45ed",
   "metadata": {},
   "outputs": [
    {
     "data": {
      "text/plain": [
       "True"
      ]
     },
     "execution_count": 19,
     "metadata": {},
     "output_type": "execute_result"
    }
   ],
   "source": [
    "bool('a')"
   ]
  },
  {
   "cell_type": "code",
   "execution_count": 23,
   "id": "02de74ef",
   "metadata": {},
   "outputs": [
    {
     "data": {
      "text/plain": [
       "(True, False, False)"
      ]
     },
     "execution_count": 23,
     "metadata": {},
     "output_type": "execute_result"
    }
   ],
   "source": [
    "(bool(1),bool(''),bool(None))"
   ]
  },
  {
   "cell_type": "code",
   "execution_count": 34,
   "id": "a5f7d2c1",
   "metadata": {},
   "outputs": [
    {
     "name": "stdout",
     "output_type": "stream",
     "text": [
      "sachin1\n"
     ]
    }
   ],
   "source": [
    "a ='sachin'\n",
    "a = a + '1'\n",
    "print(a)"
   ]
  },
  {
   "cell_type": "code",
   "execution_count": 35,
   "id": "6a1200e9",
   "metadata": {},
   "outputs": [
    {
     "name": "stdout",
     "output_type": "stream",
     "text": [
      "5 6 True\n"
     ]
    }
   ],
   "source": [
    "a,b,z = 5,6,bool(5)\n",
    "print(a,b,z) "
   ]
  },
  {
   "cell_type": "code",
   "execution_count": 48,
   "id": "d5d8db66",
   "metadata": {},
   "outputs": [
    {
     "name": "stdout",
     "output_type": "stream",
     "text": [
      "5 6\n",
      "6\n"
     ]
    }
   ],
   "source": [
    "print(a,b,sep = \" \")\n",
    "print(b)"
   ]
  },
  {
   "cell_type": "code",
   "execution_count": 51,
   "id": "c0981bdd",
   "metadata": {},
   "outputs": [
    {
     "name": "stdout",
     "output_type": "stream",
     "text": [
      "5\n",
      "None\n"
     ]
    }
   ],
   "source": [
    "a = 5\n",
    "print(a)\n",
    "del a\n",
    "a = None\n",
    "print(a)"
   ]
  },
  {
   "cell_type": "code",
   "execution_count": 54,
   "id": "9a00481e",
   "metadata": {},
   "outputs": [
    {
     "name": "stdout",
     "output_type": "stream",
     "text": [
      "25\n"
     ]
    }
   ],
   "source": [
    "__ = 25\n",
    "print(__)"
   ]
  },
  {
   "cell_type": "code",
   "execution_count": 58,
   "id": "dea9a18a",
   "metadata": {},
   "outputs": [
    {
     "name": "stdout",
     "output_type": "stream",
     "text": [
      "True\n"
     ]
    }
   ],
   "source": [
    "a = bool(input())\n",
    "print(a)"
   ]
  },
  {
   "cell_type": "code",
   "execution_count": 60,
   "id": "e1de8ad5",
   "metadata": {},
   "outputs": [
    {
     "name": "stdout",
     "output_type": "stream",
     "text": [
      "False\n"
     ]
    }
   ],
   "source": [
    "print(bool(False))"
   ]
  },
  {
   "cell_type": "code",
   "execution_count": 66,
   "id": "4b9edfbe",
   "metadata": {},
   "outputs": [
    {
     "name": "stdout",
     "output_type": "stream",
     "text": [
      "565 says Hi to 24\n"
     ]
    }
   ],
   "source": [
    "A = input()\n",
    "B = input()\n",
    "print(A,'says Hi to',B)"
   ]
  },
  {
   "cell_type": "code",
   "execution_count": 72,
   "id": "66440acc",
   "metadata": {},
   "outputs": [
    {
     "data": {
      "text/plain": [
       "-1"
      ]
     },
     "execution_count": 72,
     "metadata": {},
     "output_type": "execute_result"
    }
   ],
   "source": [
    "#Doubt \n",
    "5%-2"
   ]
  },
  {
   "cell_type": "code",
   "execution_count": 76,
   "id": "e9ba6c63",
   "metadata": {},
   "outputs": [
    {
     "data": {
      "text/plain": [
       "5.0"
      ]
     },
     "execution_count": 76,
     "metadata": {},
     "output_type": "execute_result"
    }
   ],
   "source": [
    "25**(1/2)"
   ]
  },
  {
   "cell_type": "code",
   "execution_count": 79,
   "id": "b6a610dd",
   "metadata": {},
   "outputs": [
    {
     "data": {
      "text/plain": [
       "81.0"
      ]
     },
     "execution_count": 79,
     "metadata": {},
     "output_type": "execute_result"
    }
   ],
   "source": [
    "9**2.0"
   ]
  },
  {
   "cell_type": "code",
   "execution_count": 81,
   "id": "7c30f1ca",
   "metadata": {},
   "outputs": [
    {
     "data": {
      "text/plain": [
       "16.0"
      ]
     },
     "execution_count": 81,
     "metadata": {},
     "output_type": "execute_result"
    }
   ],
   "source": [
    "4.0**2"
   ]
  },
  {
   "cell_type": "code",
   "execution_count": 90,
   "id": "ecb61b23",
   "metadata": {},
   "outputs": [
    {
     "data": {
      "text/plain": [
       "False"
      ]
     },
     "execution_count": 90,
     "metadata": {},
     "output_type": "execute_result"
    }
   ],
   "source": [
    "bool(None)"
   ]
  },
  {
   "cell_type": "code",
   "execution_count": 95,
   "id": "29f2c930",
   "metadata": {},
   "outputs": [
    {
     "name": "stdout",
     "output_type": "stream",
     "text": [
      "1\n"
     ]
    }
   ],
   "source": [
    "c= 5\n",
    "c %=2\n",
    "print(c)"
   ]
  },
  {
   "cell_type": "code",
   "execution_count": null,
   "id": "89b84c53",
   "metadata": {},
   "outputs": [
    {
     "ename": "SyntaxError",
     "evalue": "cannot assign to literal here. Maybe you meant '==' instead of '='? (260838114.py, line 1)",
     "output_type": "error",
     "traceback": [
      "  \u001b[36mCell\u001b[39m\u001b[36m \u001b[39m\u001b[32mIn[97]\u001b[39m\u001b[32m, line 1\u001b[39m\n\u001b[31m    \u001b[39m\u001b[31m10 = 10\u001b[39m\n    ^\n\u001b[31mSyntaxError\u001b[39m\u001b[31m:\u001b[39m cannot assign to literal here. Maybe you meant '==' instead of '='?\n"
     ]
    }
   ],
   "source": [
    "10 = 10"
   ]
  },
  {
   "cell_type": "code",
   "execution_count": 107,
   "id": "b86ac3b2",
   "metadata": {},
   "outputs": [
    {
     "name": "stdout",
     "output_type": "stream",
     "text": [
      "Correct\n"
     ]
    }
   ],
   "source": [
    "password = 'hello'.lower()\n",
    "username = input('Enter username')\n",
    "password = input('Enter password').lower()\n",
    "if(password == password):\n",
    "    print('Correct')\n",
    "else:\n",
    "    print('wrong')"
   ]
  },
  {
   "cell_type": "code",
   "execution_count": 114,
   "id": "f7af9c96",
   "metadata": {},
   "outputs": [
    {
     "data": {
      "text/plain": [
       "True"
      ]
     },
     "execution_count": 114,
     "metadata": {},
     "output_type": "execute_result"
    }
   ],
   "source": [
    "x= 5\n",
    "y =7\n",
    "z = 10\n",
    "x>4 or y==10 and z>5"
   ]
  },
  {
   "cell_type": "code",
   "execution_count": 119,
   "id": "5493c146",
   "metadata": {},
   "outputs": [
    {
     "name": "stdout",
     "output_type": "stream",
     "text": [
      "False\n",
      "True\n"
     ]
    }
   ],
   "source": [
    "a = -52\n",
    "b = -52\n",
    "print(a is b)\n",
    "print(a == b)"
   ]
  },
  {
   "cell_type": "code",
   "execution_count": null,
   "id": "947b2b20",
   "metadata": {},
   "outputs": [
    {
     "ename": "ValueError",
     "evalue": "invalid literal for int() with base 10: ''",
     "output_type": "error",
     "traceback": [
      "\u001b[31m---------------------------------------------------------------------------\u001b[39m",
      "\u001b[31mValueError\u001b[39m                                Traceback (most recent call last)",
      "\u001b[36mCell\u001b[39m\u001b[36m \u001b[39m\u001b[32mIn[128]\u001b[39m\u001b[32m, line 1\u001b[39m\n\u001b[32m----> \u001b[39m\u001b[32m1\u001b[39m a = \u001b[38;5;28mint\u001b[39m(\u001b[38;5;28minput\u001b[39m())\n\u001b[32m      2\u001b[39m b = \u001b[38;5;28mint\u001b[39m(\u001b[38;5;28minput\u001b[39m())\n\u001b[32m      3\u001b[39m c = \u001b[38;5;28mint\u001b[39m(\u001b[38;5;28minput\u001b[39m())\n",
      "\u001b[31mValueError\u001b[39m: invalid literal for int() with base 10: ''"
     ]
    }
   ],
   "source": [
    "a = int(input())\n",
    "b = int(input())\n",
    "c = int(input())\n",
    "x = a<b+c\n",
    "print(x)"
   ]
  },
  {
   "cell_type": "code",
   "execution_count": 130,
   "id": "c154ec9e",
   "metadata": {},
   "outputs": [
    {
     "data": {
      "text/plain": [
       "True"
      ]
     },
     "execution_count": 130,
     "metadata": {},
     "output_type": "execute_result"
    }
   ],
   "source": [
    "5>2"
   ]
  },
  {
   "cell_type": "code",
   "execution_count": 134,
   "id": "683201f0",
   "metadata": {},
   "outputs": [
    {
     "name": "stdout",
     "output_type": "stream",
     "text": [
      "Wear Shirt\n",
      "Take Umbrella\n"
     ]
    }
   ],
   "source": [
    "temp = int(input())\n",
    "weather = input().lower()\n",
    "if(temp < 32 and weather == 'rainy'):\n",
    "    print('Wear Shirt')\n",
    "    print(\"Take Umbrella\")\n",
    "else :\n",
    "    print('Wear T Shirt')"
   ]
  },
  {
   "cell_type": "code",
   "execution_count": 1,
   "id": "222ce8e2",
   "metadata": {},
   "outputs": [
    {
     "name": "stdout",
     "output_type": "stream",
     "text": [
      "wrong name\n"
     ]
    }
   ],
   "source": [
    "name = input('Enter username').upper()\n",
    "pwd = input(\"Enter password\")\n",
    "if(name == 'SACHIN'):\n",
    "    if (pwd == '1234'):\n",
    "        print(name,'logged in successfully')\n",
    "    else :\n",
    "        print('Incorrct Password')\n",
    "elif(name == 'JATIN'):\n",
    "    if(pwd == '9990'):\n",
    "        print(name,'logged in sucessfully')\n",
    "    else:\n",
    "        print('Wrong password')\n",
    "else :\n",
    "    print('wrong name')\n",
    "    "
   ]
  },
  {
   "cell_type": "code",
   "execution_count": null,
   "id": "339c0f0a",
   "metadata": {},
   "outputs": [
    {
     "data": {
      "text/plain": [
       "True"
      ]
     },
     "execution_count": 3,
     "metadata": {},
     "output_type": "execute_result"
    }
   ],
   "source": [
    "0%2==1"
   ]
  },
  {
   "cell_type": "code",
   "execution_count": 1,
   "id": "3a90733b",
   "metadata": {},
   "outputs": [
    {
     "data": {
      "text/plain": [
       "0"
      ]
     },
     "execution_count": 1,
     "metadata": {},
     "output_type": "execute_result"
    }
   ],
   "source": [
    "0%3\n"
   ]
  },
  {
   "cell_type": "markdown",
   "id": "2b174cf9",
   "metadata": {},
   "source": [
    "------********************----------------------xxxxxxxxxxxxxxx------------------------------xxxxxxxxxxxxxxxxxxxxx------"
   ]
  },
  {
   "cell_type": "code",
   "execution_count": null,
   "id": "46799b05",
   "metadata": {},
   "outputs": [
    {
     "name": "stdout",
     "output_type": "stream",
     "text": [
      "Hello my name is TJ\n"
     ]
    }
   ],
   "source": [
    "#FileHandling Practise\n",
    "\n",
    "#Read mode\n",
    "new_file=open('practisetext.txt','r')\n",
    "print(new_file.read())"
   ]
  },
  {
   "cell_type": "code",
   "execution_count": null,
   "id": "12b6c5f2",
   "metadata": {},
   "outputs": [
    {
     "name": "stdout",
     "output_type": "stream",
     "text": [
      "Iam Studing python\n"
     ]
    }
   ],
   "source": [
    "#Write mode\n",
    "new_file=open('practisetext.txt','w')\n",
    "new_file.write('Iam Studing python')\n",
    "new_file=open('practisetext.txt','r')\n",
    "print(new_file.read())"
   ]
  },
  {
   "cell_type": "code",
   "execution_count": 7,
   "id": "86751111",
   "metadata": {},
   "outputs": [],
   "source": [
    "import os"
   ]
  },
  {
   "cell_type": "code",
   "execution_count": null,
   "id": "4c8bbe17",
   "metadata": {},
   "outputs": [
    {
     "data": {
      "text/plain": [
       "'c:\\\\Users\\\\singh\\\\Desktop\\\\Python'"
      ]
     },
     "execution_count": 9,
     "metadata": {},
     "output_type": "execute_result"
    }
   ],
   "source": [
    "os.getcwd()\n"
   ]
  },
  {
   "cell_type": "code",
   "execution_count": 16,
   "id": "d609733e",
   "metadata": {},
   "outputs": [
    {
     "name": "stdout",
     "output_type": "stream",
     "text": [
      "['.git', 'Calculator.py', 'Conditions.ipynb', 'Dashboard', 'Data Analysis', 'Data Srtuctures', 'Data Visualization', 'Datatype.ipynb', 'Filehandling.ipynb', 'Loops.ipynb', 'Operators.ipynb', 'Practise.ipynb', 'practisetext.txt', 'Special_Datatypes.ipynb', 'Text.txt']\n"
     ]
    }
   ],
   "source": [
    "file = os.listdir()\n",
    "print(file)"
   ]
  },
  {
   "cell_type": "code",
   "execution_count": 20,
   "id": "965a81b6",
   "metadata": {},
   "outputs": [
    {
     "name": "stdout",
     "output_type": "stream",
     "text": [
      "['amzn_stock (1).pdf', 'e hr.xlsx', 'mobile_os_usage.csv', 'Super Store Data  - Copy.xlsx', 'Super Store Data .xlsx']\n"
     ]
    }
   ],
   "source": [
    "files = os.listdir(r\"D:\\DP DataSets\")\n",
    "print(files)"
   ]
  },
  {
   "cell_type": "code",
   "execution_count": null,
   "id": "4baf537f",
   "metadata": {},
   "outputs": [],
   "source": []
  }
 ],
 "metadata": {
  "kernelspec": {
   "display_name": "base",
   "language": "python",
   "name": "python3"
  },
  "language_info": {
   "codemirror_mode": {
    "name": "ipython",
    "version": 3
   },
   "file_extension": ".py",
   "mimetype": "text/x-python",
   "name": "python",
   "nbconvert_exporter": "python",
   "pygments_lexer": "ipython3",
   "version": "3.13.5"
  }
 },
 "nbformat": 4,
 "nbformat_minor": 5
}
