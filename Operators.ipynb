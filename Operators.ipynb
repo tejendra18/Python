{
 "cells": [
  {
   "cell_type": "code",
   "execution_count": 2,
   "id": "b828767d",
   "metadata": {},
   "outputs": [],
   "source": [
    "a = 5\n",
    "b = 52"
   ]
  },
  {
   "cell_type": "code",
   "execution_count": null,
   "id": "7de59316",
   "metadata": {},
   "outputs": [],
   "source": [
    "sum = (a+b)"
   ]
  },
  {
   "cell_type": "code",
   "execution_count": 4,
   "id": "8b23e981",
   "metadata": {},
   "outputs": [
    {
     "name": "stdout",
     "output_type": "stream",
     "text": [
      "57\n"
     ]
    }
   ],
   "source": [
    "print (sum)\n"
   ]
  },
  {
   "cell_type": "code",
   "execution_count": 5,
   "id": "b5239692",
   "metadata": {},
   "outputs": [],
   "source": [
    "sum = b -a"
   ]
  },
  {
   "cell_type": "code",
   "execution_count": 7,
   "id": "b8391a3b",
   "metadata": {},
   "outputs": [
    {
     "name": "stdout",
     "output_type": "stream",
     "text": [
      "47\n"
     ]
    }
   ],
   "source": [
    "print (sum)"
   ]
  },
  {
   "cell_type": "code",
   "execution_count": 8,
   "id": "5b018f38",
   "metadata": {},
   "outputs": [],
   "source": [
    "a= 10 "
   ]
  },
  {
   "cell_type": "code",
   "execution_count": 9,
   "id": "27351dff",
   "metadata": {},
   "outputs": [
    {
     "name": "stdout",
     "output_type": "stream",
     "text": [
      "100000\n"
     ]
    }
   ],
   "source": [
    "b= 5\n",
    "print (a ** b)"
   ]
  },
  {
   "cell_type": "code",
   "execution_count": 10,
   "id": "74a23ae1",
   "metadata": {},
   "outputs": [],
   "source": [
    "a = 5"
   ]
  },
  {
   "cell_type": "code",
   "execution_count": 69,
   "id": "e334d7cd",
   "metadata": {},
   "outputs": [
    {
     "name": "stdout",
     "output_type": "stream",
     "text": [
      "12\n"
     ]
    }
   ],
   "source": [
    "a = 6\n",
    "a+= 6\n",
    "print(a)"
   ]
  },
  {
   "cell_type": "code",
   "execution_count": 12,
   "id": "7b4995fb",
   "metadata": {},
   "outputs": [
    {
     "name": "stdout",
     "output_type": "stream",
     "text": [
      "11\n"
     ]
    }
   ],
   "source": [
    "print (a)"
   ]
  },
  {
   "cell_type": "code",
   "execution_count": 70,
   "id": "32799366",
   "metadata": {},
   "outputs": [
    {
     "data": {
      "text/plain": [
       "False"
      ]
     },
     "execution_count": 70,
     "metadata": {},
     "output_type": "execute_result"
    }
   ],
   "source": [
    "a==b"
   ]
  },
  {
   "cell_type": "code",
   "execution_count": 14,
   "id": "cc4b1072",
   "metadata": {},
   "outputs": [
    {
     "data": {
      "text/plain": [
       "True"
      ]
     },
     "execution_count": 14,
     "metadata": {},
     "output_type": "execute_result"
    }
   ],
   "source": [
    "a != b"
   ]
  },
  {
   "cell_type": "code",
   "execution_count": 15,
   "id": "f8ab5d93",
   "metadata": {},
   "outputs": [
    {
     "data": {
      "text/plain": [
       "False"
      ]
     },
     "execution_count": 15,
     "metadata": {},
     "output_type": "execute_result"
    }
   ],
   "source": [
    "a < b"
   ]
  },
  {
   "cell_type": "code",
   "execution_count": 84,
   "id": "5d60dd77",
   "metadata": {},
   "outputs": [
    {
     "name": "stdout",
     "output_type": "stream",
     "text": [
      "True\n"
     ]
    }
   ],
   "source": [
    "b =10\n",
    "print(b%2== 0 or b/3 == 0)"
   ]
  },
  {
   "cell_type": "code",
   "execution_count": 78,
   "id": "3f95045d",
   "metadata": {},
   "outputs": [
    {
     "name": "stdout",
     "output_type": "stream",
     "text": [
      "True\n"
     ]
    }
   ],
   "source": [
    "a = 5\n",
    "b = 6\n",
    "print (not(a//2 == 0 and b/5== 0))"
   ]
  },
  {
   "cell_type": "code",
   "execution_count": 79,
   "id": "ce9480f8",
   "metadata": {},
   "outputs": [
    {
     "data": {
      "text/plain": [
       "5.0"
      ]
     },
     "execution_count": 79,
     "metadata": {},
     "output_type": "execute_result"
    }
   ],
   "source": [
    "10 / 2"
   ]
  },
  {
   "cell_type": "code",
   "execution_count": 80,
   "id": "cc81090e",
   "metadata": {},
   "outputs": [
    {
     "data": {
      "text/plain": [
       "5"
      ]
     },
     "execution_count": 80,
     "metadata": {},
     "output_type": "execute_result"
    }
   ],
   "source": [
    "10//2"
   ]
  },
  {
   "cell_type": "code",
   "execution_count": null,
   "id": "db849a00",
   "metadata": {},
   "outputs": [
    {
     "data": {
      "text/plain": [
       "True"
      ]
     },
     "execution_count": 1,
     "metadata": {},
     "output_type": "execute_result"
    }
   ],
   "source": [
    "a=5\n",
    "b=5\n",
    "a is not b"
   ]
  },
  {
   "cell_type": "code",
   "execution_count": 82,
   "id": "ef3eed20",
   "metadata": {},
   "outputs": [
    {
     "data": {
      "text/plain": [
       "False"
      ]
     },
     "execution_count": 82,
     "metadata": {},
     "output_type": "execute_result"
    }
   ],
   "source": [
    "x = 5\n",
    "y = 8\n",
    "x is y"
   ]
  },
  {
   "cell_type": "code",
   "execution_count": 6,
   "id": "013d9aad",
   "metadata": {},
   "outputs": [
    {
     "name": "stdout",
     "output_type": "stream",
     "text": [
      "False\n",
      "True\n",
      "[1, 2, 3]\n",
      "[1, 2, 3]\n"
     ]
    }
   ],
   "source": [
    "c = None\n",
    "x = [1,2,3]\n",
    "c = x\n",
    "z = [1,2,3]\n",
    "#print (x is y)\n",
    "print (x is z)\n",
    "print (x is not z)\n",
    "#print (x is not y)\n",
    "print (x)\n",
    "print (c)"
   ]
  },
  {
   "cell_type": "code",
   "execution_count": 9,
   "id": "db7efada",
   "metadata": {},
   "outputs": [
    {
     "name": "stdout",
     "output_type": "stream",
     "text": [
      "True\n",
      "False\n",
      "True\n",
      "True\n",
      "True\n"
     ]
    }
   ],
   "source": [
    "fruits = ['apple','banana','cherry']\n",
    "print('apple' in fruits)\n",
    "print ('orange' in fruits)\n",
    "print ('orange' not in fruits)\n",
    "print ('nana' in 'banana')\n",
    "print ('nana' in 'banana' )"
   ]
  },
  {
   "cell_type": "code",
   "execution_count": null,
   "id": "52096e74",
   "metadata": {},
   "outputs": [
    {
     "name": "stdout",
     "output_type": "stream",
     "text": [
      "True\n",
      "False\n",
      "True\n",
      "False\n",
      "[1, 2, 3]\n",
      "[1, 2, 3]\n",
      "[1, 2, 3]\n"
     ]
    }
   ],
   "source": [
    "x = [1,2,3]\n",
    "y = x\n",
    "z = [1,2,3]\n",
    "print (x is y)\n",
    "print (x is z)\n",
    "print (x is not z)\n",
    "print (x is not y)\n",
    "print (x)\n",
    "print (y)\n",
    "print (z)"
   ]
  },
  {
   "cell_type": "code",
   "execution_count": null,
   "id": "c70d1b99",
   "metadata": {},
   "outputs": [
    {
     "name": "stdout",
     "output_type": "stream",
     "text": [
      "8\n"
     ]
    }
   ],
   "source": [
    "print(x)"
   ]
  },
  {
   "cell_type": "code",
   "execution_count": null,
   "id": "f01db54d",
   "metadata": {},
   "outputs": [],
   "source": []
  }
 ],
 "metadata": {
  "kernelspec": {
   "display_name": "base",
   "language": "python",
   "name": "python3"
  },
  "language_info": {
   "codemirror_mode": {
    "name": "ipython",
    "version": 3
   },
   "file_extension": ".py",
   "mimetype": "text/x-python",
   "name": "python",
   "nbconvert_exporter": "python",
   "pygments_lexer": "ipython3",
   "version": "3.13.5"
  }
 },
 "nbformat": 4,
 "nbformat_minor": 5
}
