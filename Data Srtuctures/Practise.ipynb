{
 "cells": [
  {
   "cell_type": "code",
   "execution_count": null,
   "id": "d706d16c",
   "metadata": {},
   "outputs": [],
   "source": []
  },
  {
   "cell_type": "code",
   "execution_count": 12,
   "id": "7d3f83c7",
   "metadata": {},
   "outputs": [],
   "source": [
    "code = ['TJ','UT','Zaid','Vedansh','Mayank','Pranjal']"
   ]
  },
  {
   "cell_type": "code",
   "execution_count": 38,
   "id": "d4d26ffe",
   "metadata": {},
   "outputs": [
    {
     "name": "stdout",
     "output_type": "stream",
     "text": [
      "['TJ', 'UT', 'Vedansh']\n",
      "[5, 7, 9]\n",
      "[9, 5]\n",
      "Zaid\n"
     ]
    }
   ],
   "source": [
    "#Indexing & Slicing\n",
    "print(code[2:5])\n",
    "print(code[-3:])\n",
    "print(code[-5:-1:2])\n",
    "print(code[5])"
   ]
  },
  {
   "cell_type": "code",
   "execution_count": 1,
   "id": "370b064c",
   "metadata": {},
   "outputs": [
    {
     "ename": "NameError",
     "evalue": "name 'code' is not defined",
     "output_type": "error",
     "traceback": [
      "\u001b[31m---------------------------------------------------------------------------\u001b[39m",
      "\u001b[31mNameError\u001b[39m                                 Traceback (most recent call last)",
      "\u001b[36mCell\u001b[39m\u001b[36m \u001b[39m\u001b[32mIn[1]\u001b[39m\u001b[32m, line 2\u001b[39m\n\u001b[32m      1\u001b[39m \u001b[38;5;66;03m#List methods\u001b[39;00m\n\u001b[32m----> \u001b[39m\u001b[32m2\u001b[39m \u001b[38;5;28mprint\u001b[39m(code.append(\u001b[33m'\u001b[39m\u001b[33mSingh\u001b[39m\u001b[33m'\u001b[39m))\n",
      "\u001b[31mNameError\u001b[39m: name 'code' is not defined"
     ]
    }
   ],
   "source": [
    "#List methods\n",
    "print(code.append('Singh'))"
   ]
  },
  {
   "cell_type": "code",
   "execution_count": 6,
   "id": "468aab23",
   "metadata": {},
   "outputs": [
    {
     "name": "stdout",
     "output_type": "stream",
     "text": [
      "['TJ', 'UT', 'Zaid', 'Vedansh', 'Mayank', 'Pranjal', 'Harsh', 'Harsh', 'Harsh']\n"
     ]
    }
   ],
   "source": [
    "#Append\n",
    "code.append('Harsh')\n",
    "print(code)"
   ]
  },
  {
   "cell_type": "code",
   "execution_count": 15,
   "id": "38256f5b",
   "metadata": {},
   "outputs": [
    {
     "name": "stdout",
     "output_type": "stream",
     "text": [
      "['TJ', 'UTD', 'UTD', 'UT', 'Zaid', 'Vedansh', 'Mayank', 'Pranjal']\n"
     ]
    }
   ],
   "source": [
    "#Insert\n",
    "code.insert(1,'UTD')\n",
    "print(code)\n",
    "#print(code[2])"
   ]
  },
  {
   "cell_type": "code",
   "execution_count": 22,
   "id": "2621765d",
   "metadata": {},
   "outputs": [
    {
     "ename": "IndexError",
     "evalue": "pop index out of range",
     "output_type": "error",
     "traceback": [
      "\u001b[31m---------------------------------------------------------------------------\u001b[39m",
      "\u001b[31mIndexError\u001b[39m                                Traceback (most recent call last)",
      "\u001b[36mCell\u001b[39m\u001b[36m \u001b[39m\u001b[32mIn[22]\u001b[39m\u001b[32m, line 2\u001b[39m\n\u001b[32m      1\u001b[39m \u001b[38;5;66;03m#Pop & Remove\u001b[39;00m\n\u001b[32m----> \u001b[39m\u001b[32m2\u001b[39m code.pop(-\u001b[32m2\u001b[39m)\n\u001b[32m      3\u001b[39m \u001b[38;5;28mprint\u001b[39m(code)\n\u001b[32m      5\u001b[39m code.remove(\u001b[33m'\u001b[39m\u001b[33mPranjal\u001b[39m\u001b[33m'\u001b[39m)\n",
      "\u001b[31mIndexError\u001b[39m: pop index out of range"
     ]
    }
   ],
   "source": [
    "#Pop & Remove\n",
    "code.pop(-2)\n",
    "print(code)\n",
    "\n",
    "code.remove('Pranjal')\n",
    "print(code)"
   ]
  },
  {
   "cell_type": "code",
   "execution_count": 25,
   "id": "a2e66433",
   "metadata": {},
   "outputs": [
    {
     "name": "stdout",
     "output_type": "stream",
     "text": [
      "['TJ']\n",
      "['TJ']\n"
     ]
    }
   ],
   "source": [
    "#Copy\n",
    "c1 = code.copy()\n",
    "print(c1)\n",
    "print(code)"
   ]
  },
  {
   "cell_type": "code",
   "execution_count": 29,
   "id": "0fd70faf",
   "metadata": {},
   "outputs": [
    {
     "name": "stdout",
     "output_type": "stream",
     "text": [
      "[]\n",
      "[]\n"
     ]
    }
   ],
   "source": [
    "#Clear\n",
    "c1.clear()\n",
    "code.clear()\n",
    "print(code)\n",
    "print(c1)"
   ]
  },
  {
   "cell_type": "code",
   "execution_count": 32,
   "id": "b0a2a12e",
   "metadata": {},
   "outputs": [
    {
     "name": "stdout",
     "output_type": "stream",
     "text": [
      "['Mayank', 'Pranjal', 'TJ', 'UT', 'Vedansh', 'Zaid']\n"
     ]
    }
   ],
   "source": [
    "#sort\n",
    "code = ['TJ','UT','Zaid','Vedansh','Mayank','Pranjal']\n",
    "code.sort()\n",
    "print(code)"
   ]
  },
  {
   "cell_type": "code",
   "execution_count": 1,
   "id": "d609dddc",
   "metadata": {},
   "outputs": [
    {
     "ename": "NameError",
     "evalue": "name 'code' is not defined",
     "output_type": "error",
     "traceback": [
      "\u001b[31m---------------------------------------------------------------------------\u001b[39m",
      "\u001b[31mNameError\u001b[39m                                 Traceback (most recent call last)",
      "\u001b[36mCell\u001b[39m\u001b[36m \u001b[39m\u001b[32mIn[1]\u001b[39m\u001b[32m, line 3\u001b[39m\n\u001b[32m      1\u001b[39m \u001b[38;5;66;03m#Extend\u001b[39;00m\n\u001b[32m      2\u001b[39m c2 = [\u001b[32m1\u001b[39m,\u001b[32m5\u001b[39m,\u001b[32m7\u001b[39m,\u001b[32m9\u001b[39m]\n\u001b[32m----> \u001b[39m\u001b[32m3\u001b[39m code.extend(c2)\n\u001b[32m      4\u001b[39m c2.extend(code)\n\u001b[32m      5\u001b[39m \u001b[38;5;28mprint\u001b[39m(code)\n",
      "\u001b[31mNameError\u001b[39m: name 'code' is not defined"
     ]
    }
   ],
   "source": [
    "#Extend\n",
    "c2 = [1,5,7,9]\n",
    "code.extend(c2)\n",
    "c2.extend(code)\n",
    "print(code)\n",
    "print(c2)"
   ]
  },
  {
   "cell_type": "code",
   "execution_count": 17,
   "id": "e908a69a",
   "metadata": {},
   "outputs": [],
   "source": [
    "for i in range(3):\n",
    "    if i == 2:\n",
    "        break\n",
    "else:\n",
    "    print(\"completed\")"
   ]
  },
  {
   "cell_type": "code",
   "execution_count": 6,
   "id": "47b7818f",
   "metadata": {},
   "outputs": [
    {
     "name": "stdout",
     "output_type": "stream",
     "text": [
      "0\n",
      "1\n"
     ]
    }
   ],
   "source": [
    "for i in range(2):\n",
    "    print(i)"
   ]
  },
  {
   "cell_type": "code",
   "execution_count": 8,
   "id": "13c3c73c",
   "metadata": {},
   "outputs": [
    {
     "name": "stdout",
     "output_type": "stream",
     "text": [
      "set()\n"
     ]
    }
   ],
   "source": [
    "a = {1,2,3}\n",
    "b=a\n",
    "a.clear()\n",
    "print(b)"
   ]
  },
  {
   "cell_type": "code",
   "execution_count": 11,
   "id": "572a7123",
   "metadata": {},
   "outputs": [
    {
     "name": "stdout",
     "output_type": "stream",
     "text": [
      "{'a': 3, 'b': 2}\n"
     ]
    }
   ],
   "source": [
    "d1 = {\"a\":1}\n",
    "d2 = d1\n",
    "d1[\"b\"] = 2\n",
    "d2[\"a\"] = 3\n",
    "print(d1)"
   ]
  },
  {
   "cell_type": "code",
   "execution_count": 15,
   "id": "0f5b6e68",
   "metadata": {},
   "outputs": [
    {
     "name": "stdout",
     "output_type": "stream",
     "text": [
      "[1, 2, 3]\n"
     ]
    }
   ],
   "source": [
    "a=[1,2,3]\n",
    "b=a\n",
    "a= a+[4]\n",
    "print(b)"
   ]
  },
  {
   "cell_type": "code",
   "execution_count": 18,
   "id": "c81c4323",
   "metadata": {},
   "outputs": [
    {
     "name": "stdout",
     "output_type": "stream",
     "text": [
      "0\n",
      "1\n",
      "loop done\n"
     ]
    }
   ],
   "source": [
    "for i in range(2):\n",
    "    print(i)\n",
    "else:\n",
    "    print(\"loop done\")"
   ]
  },
  {
   "cell_type": "code",
   "execution_count": 21,
   "id": "1ae4f234",
   "metadata": {},
   "outputs": [
    {
     "name": "stdout",
     "output_type": "stream",
     "text": [
      "AeO\n"
     ]
    }
   ],
   "source": [
    "s=\"OpenAI\"\n",
    "print(s[-2::-2])"
   ]
  },
  {
   "cell_type": "code",
   "execution_count": 25,
   "id": "1378ed7c",
   "metadata": {},
   "outputs": [
    {
     "name": "stdout",
     "output_type": "stream",
     "text": [
      "[[100, 2], [100, 2], [100, 2]]\n"
     ]
    }
   ],
   "source": [
    "a=[[1,2]] * 3\n",
    "a[0][0]=100\n",
    "print(a)"
   ]
  },
  {
   "cell_type": "code",
   "execution_count": 30,
   "id": "3ed0a82d",
   "metadata": {},
   "outputs": [
    {
     "ename": "SyntaxError",
     "evalue": "invalid syntax (1469156876.py, line 1)",
     "output_type": "error",
     "traceback": [
      "  \u001b[36mCell\u001b[39m\u001b[36m \u001b[39m\u001b[32mIn[30]\u001b[39m\u001b[32m, line 1\u001b[39m\n\u001b[31m    \u001b[39m\u001b[31mdef append_twice(val, lst[]):\u001b[39m\n                             ^\n\u001b[31mSyntaxError\u001b[39m\u001b[31m:\u001b[39m invalid syntax\n"
     ]
    }
   ],
   "source": [
    "def append_twice(val, lst[]):\n",
    "    lst.append(val)\n",
    "    lst.append(val)\n",
    "    return lst\n",
    "\n",
    "print(append_twice(1))\n",
    "print(append_twice (2))"
   ]
  },
  {
   "cell_type": "code",
   "execution_count": 32,
   "id": "99ce53d1",
   "metadata": {},
   "outputs": [
    {
     "ename": "RuntimeError",
     "evalue": "dictionary changed size during iteration",
     "output_type": "error",
     "traceback": [
      "\u001b[31m---------------------------------------------------------------------------\u001b[39m",
      "\u001b[31mRuntimeError\u001b[39m                              Traceback (most recent call last)",
      "\u001b[36mCell\u001b[39m\u001b[36m \u001b[39m\u001b[32mIn[32]\u001b[39m\u001b[32m, line 2\u001b[39m\n\u001b[32m      1\u001b[39m d ={\u001b[33m'\u001b[39m\u001b[33ma\u001b[39m\u001b[33m'\u001b[39m:\u001b[32m1\u001b[39m,\u001b[33m'\u001b[39m\u001b[33mb\u001b[39m\u001b[33m'\u001b[39m:\u001b[32m2\u001b[39m}\n\u001b[32m----> \u001b[39m\u001b[32m2\u001b[39m \u001b[38;5;28;01mfor\u001b[39;00m k \u001b[38;5;129;01min\u001b[39;00m d:\n\u001b[32m      3\u001b[39m     d[\u001b[33m'\u001b[39m\u001b[33mc\u001b[39m\u001b[33m'\u001b[39m] = \u001b[32m2\u001b[39m\n",
      "\u001b[31mRuntimeError\u001b[39m: dictionary changed size during iteration"
     ]
    }
   ],
   "source": [
    "d ={'a':1,'b':2}\n",
    "for k in d:\n",
    "    d['c'] = 2"
   ]
  },
  {
   "cell_type": "code",
   "execution_count": 34,
   "id": "d8ee3852",
   "metadata": {},
   "outputs": [
    {
     "name": "stdout",
     "output_type": "stream",
     "text": [
      "[2]\n"
     ]
    }
   ],
   "source": [
    "a=[1,2]\n",
    "print(a[1:5])"
   ]
  }
 ],
 "metadata": {
  "kernelspec": {
   "display_name": "base",
   "language": "python",
   "name": "python3"
  },
  "language_info": {
   "codemirror_mode": {
    "name": "ipython",
    "version": 3
   },
   "file_extension": ".py",
   "mimetype": "text/x-python",
   "name": "python",
   "nbconvert_exporter": "python",
   "pygments_lexer": "ipython3",
   "version": "3.13.5"
  }
 },
 "nbformat": 4,
 "nbformat_minor": 5
}
