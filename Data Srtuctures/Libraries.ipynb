{
 "cells": [
  {
   "cell_type": "markdown",
   "id": "b5be3ef1",
   "metadata": {},
   "source": [
    "Import MATH Library"
   ]
  },
  {
   "cell_type": "code",
   "execution_count": 1,
   "id": "c747dc58",
   "metadata": {},
   "outputs": [],
   "source": [
    "import math"
   ]
  },
  {
   "cell_type": "markdown",
   "id": "900ab0d0",
   "metadata": {},
   "source": [
    "Math function"
   ]
  },
  {
   "cell_type": "code",
   "execution_count": null,
   "id": "af5441e1",
   "metadata": {},
   "outputs": [
    {
     "name": "stdout",
     "output_type": "stream",
     "text": [
      "4.0\n",
      "120\n",
      "10\n",
      "20\n",
      "2.0\n",
      "0.8939966636005579\n"
     ]
    }
   ],
   "source": [
    "print(math.sqrt(16))\n",
    "print(math.factorial(5))\n",
    "print(math.gcd(10,20))\n",
    "print(math.lcm(10,20))\n",
    "print(math.log(100,10))\n",
    "print(math.sin(90))\n"
   ]
  },
  {
   "cell_type": "markdown",
   "id": "cb74ffdd",
   "metadata": {},
   "source": [
    "RANDOM Library"
   ]
  },
  {
   "cell_type": "code",
   "execution_count": 7,
   "id": "0dc64a3a",
   "metadata": {},
   "outputs": [],
   "source": [
    "from random import random,randint,choice,shuffle"
   ]
  },
  {
   "cell_type": "markdown",
   "id": "583f168d",
   "metadata": {},
   "source": [
    "Random functions"
   ]
  },
  {
   "cell_type": "code",
   "execution_count": 13,
   "id": "249c5198",
   "metadata": {},
   "outputs": [
    {
     "name": "stdout",
     "output_type": "stream",
     "text": [
      "Get a number between 0 and 1 0.05999504029423297\n",
      "Get a random integer between 1 and 10: 3\n",
      "Get a random choice from a list banana\n",
      "['Bob', 'charlie', 'David', 'Alice']\n"
     ]
    }
   ],
   "source": [
    "print(\"Get a number between 0 and 1\",random())\n",
    "print(\"Get a random integer between 1 and 10:\",randint(1,10))\n",
    "print(\"Get a random choice from a list\",choice(['apple','banana','cherry']))\n",
    "names =['Alice','Bob','charlie','David']\n",
    "shuffle(names)\n",
    "print(names)"
   ]
  },
  {
   "cell_type": "markdown",
   "id": "f5442a8e",
   "metadata": {},
   "source": [
    "#DATE TIME library"
   ]
  },
  {
   "cell_type": "code",
   "execution_count": 24,
   "id": "8fec97ba",
   "metadata": {},
   "outputs": [],
   "source": [
    "from datetime import datetime as dt #alias"
   ]
  },
  {
   "cell_type": "markdown",
   "id": "e4c922a3",
   "metadata": {},
   "source": [
    "DATE TIME functions"
   ]
  },
  {
   "cell_type": "code",
   "execution_count": 30,
   "id": "e5b0f6d8",
   "metadata": {},
   "outputs": [
    {
     "name": "stdout",
     "output_type": "stream",
     "text": [
      "Current Date and Time 2025-08-30 11:00:44.152683\n",
      "Current Date 2025-08-30\n",
      "Current Time 11:00:44.153678\n",
      "Current Month 8\n",
      "Current Year: 2025\n",
      "Current Day 30\n",
      "Current hour 11\n"
     ]
    }
   ],
   "source": [
    "print('Current Date and Time',dt.now())\n",
    "print('Current Date',dt.now().date())\n",
    "print('Current Time',dt.now().time())\n",
    "print(\"Current Month\",dt.now().month)\n",
    "print(\"Current Year:\",dt.now().year)\n",
    "print('Current Day',dt.now().day)\n",
    "print('Current hour',dt.now().hour)"
   ]
  },
  {
   "cell_type": "code",
   "execution_count": 46,
   "id": "54cc2577",
   "metadata": {},
   "outputs": [
    {
     "name": "stdout",
     "output_type": "stream",
     "text": [
      "Current Day name Sat\n",
      "Current Day name Saturday\n",
      "Current Time 11:04:03\n"
     ]
    }
   ],
   "source": [
    "print('Current Day name',dt.now().strftime(\"%a\"))\n",
    "print('Current Day name',dt.now().strftime(\"%A\"))\n",
    "print('Current Time',dt.now().strftime('%H:%M:%S'))"
   ]
  }
 ],
 "metadata": {
  "kernelspec": {
   "display_name": "Python 3",
   "language": "python",
   "name": "python3"
  },
  "language_info": {
   "codemirror_mode": {
    "name": "ipython",
    "version": 3
   },
   "file_extension": ".py",
   "mimetype": "text/x-python",
   "name": "python",
   "nbconvert_exporter": "python",
   "pygments_lexer": "ipython3",
   "version": "3.11.1"
  }
 },
 "nbformat": 4,
 "nbformat_minor": 5
}
