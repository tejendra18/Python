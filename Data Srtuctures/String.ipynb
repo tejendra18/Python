{
 "cells": [
  {
   "cell_type": "code",
   "execution_count": 2,
   "id": "59ac2633",
   "metadata": {},
   "outputs": [
    {
     "name": "stdout",
     "output_type": "stream",
     "text": [
      "Hello guyzmy name is TJ\n",
      "H\n",
      "e\n",
      "l\n",
      "l\n",
      "o\n",
      " \n",
      "g\n",
      "u\n",
      "y\n",
      "z\n",
      "m\n",
      "y\n",
      " \n",
      "n\n",
      "a\n",
      "m\n",
      "e\n",
      " \n",
      "i\n",
      "s\n",
      " \n",
      "T\n",
      "J\n",
      "g\n",
      "TJ\n",
      "guyzm\n"
     ]
    }
   ],
   "source": [
    "str = 'Hello guyzmy name is TJ'\n",
    "print(str)\n",
    "\n",
    "\n",
    "#Loop\n",
    "for i in str:\n",
    "    print(i)#,end=\"\")\n",
    "\n",
    "#Indexing\n",
    "print(str[6])\n",
    "print(str[21:23])\n",
    "\n",
    "#Slicing \n",
    "print(str[6:11])\n"
   ]
  },
  {
   "cell_type": "markdown",
   "id": "79ff061f",
   "metadata": {},
   "source": [
    "STRING CONCATENATION"
   ]
  },
  {
   "cell_type": "code",
   "execution_count": 17,
   "id": "72df1db2",
   "metadata": {},
   "outputs": [
    {
     "name": "stdout",
     "output_type": "stream",
     "text": [
      "56\n"
     ]
    }
   ],
   "source": [
    "a= '5'\n",
    "b = '6'\n",
    "print(a+b)"
   ]
  },
  {
   "cell_type": "markdown",
   "id": "f2c104bf",
   "metadata": {},
   "source": [
    "STRING DUPLICATION"
   ]
  },
  {
   "cell_type": "code",
   "execution_count": 18,
   "id": "f3d902e6",
   "metadata": {},
   "outputs": [
    {
     "name": "stdout",
     "output_type": "stream",
     "text": [
      "hyehyehyehyehye\n"
     ]
    }
   ],
   "source": [
    "word = 'hye'\n",
    "print(word * 5)"
   ]
  },
  {
   "cell_type": "markdown",
   "id": "d5ae1b09",
   "metadata": {},
   "source": [
    "UPPER CASE and LOWER CASE"
   ]
  },
  {
   "cell_type": "code",
   "execution_count": null,
   "id": "848f62f2",
   "metadata": {},
   "outputs": [
    {
     "data": {
      "text/plain": [
       "'beautiful'"
      ]
     },
     "execution_count": 20,
     "metadata": {},
     "output_type": "execute_result"
    }
   ],
   "source": [
    "x='beautiful'\n",
    "x.upper()\n",
    "\n"
   ]
  },
  {
   "cell_type": "code",
   "execution_count": 6,
   "id": "7945807b",
   "metadata": {},
   "outputs": [
    {
     "data": {
      "text/plain": [
       "'beautiful world'"
      ]
     },
     "execution_count": 6,
     "metadata": {},
     "output_type": "execute_result"
    }
   ],
   "source": [
    "x='beautiful world'\n",
    "x.lower()"
   ]
  },
  {
   "cell_type": "markdown",
   "id": "f2c66121",
   "metadata": {},
   "source": [
    "CAPITALIZE"
   ]
  },
  {
   "cell_type": "code",
   "execution_count": 8,
   "id": "88c9dbed",
   "metadata": {},
   "outputs": [
    {
     "name": "stdout",
     "output_type": "stream",
     "text": [
      "Beautiful world\n"
     ]
    }
   ],
   "source": [
    "a=x.capitalize()\n",
    "print(a)\n"
   ]
  },
  {
   "cell_type": "markdown",
   "id": "8bd4ac0e",
   "metadata": {},
   "source": [
    "TITLE"
   ]
  },
  {
   "cell_type": "code",
   "execution_count": 32,
   "id": "157be439",
   "metadata": {},
   "outputs": [
    {
     "data": {
      "text/plain": [
       "'Hello World'"
      ]
     },
     "execution_count": 32,
     "metadata": {},
     "output_type": "execute_result"
    }
   ],
   "source": [
    "a = 'hello world'\n",
    "a.title()"
   ]
  },
  {
   "cell_type": "markdown",
   "id": "f1c6ec20",
   "metadata": {},
   "source": [
    "MULTI LINE STRING"
   ]
  },
  {
   "cell_type": "code",
   "execution_count": 33,
   "id": "7cfa0fa6",
   "metadata": {},
   "outputs": [
    {
     "name": "stdout",
     "output_type": "stream",
     "text": [
      "Jhonny jhonny yes papa\n",
      "eating sugar no papa\n",
      "telling a lie no papa\n",
      "open your mouth haha\n"
     ]
    }
   ],
   "source": [
    "poem = '''Jhonny jhonny yes papa\n",
    "eating sugar no papa\n",
    "telling a lie no papa\n",
    "open your mouth haha'''\n",
    "print(poem)"
   ]
  },
  {
   "cell_type": "markdown",
   "id": "8d99cf36",
   "metadata": {},
   "source": [
    "FIND"
   ]
  },
  {
   "cell_type": "code",
   "execution_count": 34,
   "id": "cbeddf4e",
   "metadata": {},
   "outputs": [
    {
     "data": {
      "text/plain": [
       "18"
      ]
     },
     "execution_count": 34,
     "metadata": {},
     "output_type": "execute_result"
    }
   ],
   "source": [
    "poem.find('papa')"
   ]
  },
  {
   "cell_type": "markdown",
   "id": "9d016d8f",
   "metadata": {},
   "source": [
    "REPLACE"
   ]
  },
  {
   "cell_type": "code",
   "execution_count": 38,
   "id": "6c504c5a",
   "metadata": {},
   "outputs": [
    {
     "name": "stdout",
     "output_type": "stream",
     "text": [
      "Jhonny jhonny yes fufa\n",
      "eating sugar no fufa\n",
      "telling a lie no fufa\n",
      "open your mouth haha\n",
      "Jhonny jhonny yes fufi\n",
      "eating poison no fufi\n",
      "telling a lie no fufi\n",
      "open your mouth haha\n"
     ]
    }
   ],
   "source": [
    "#SINGLE WORD REPLACE\n",
    "p = poem.replace('papa','fufa')\n",
    "print(p)\n",
    "\n",
    "##MULTI WORLD REPLACE\n",
    "p= poem.replace('papa','fufi').replace('sugar','poison')\n",
    "print(p)"
   ]
  },
  {
   "cell_type": "markdown",
   "id": "49f72d77",
   "metadata": {},
   "source": [
    "SPLIT"
   ]
  },
  {
   "cell_type": "code",
   "execution_count": 43,
   "id": "c7f5e54b",
   "metadata": {},
   "outputs": [
    {
     "name": "stdout",
     "output_type": "stream",
     "text": [
      "['You', 'ara', 'fool']\n"
     ]
    }
   ],
   "source": [
    "a=\"You ara fool\"\n",
    "a.split()\n",
    "print(a.split())\n"
   ]
  },
  {
   "cell_type": "markdown",
   "id": "d2ce8966",
   "metadata": {},
   "source": [
    "SPLIT LINES"
   ]
  },
  {
   "cell_type": "code",
   "execution_count": 40,
   "id": "9fd61895",
   "metadata": {},
   "outputs": [
    {
     "data": {
      "text/plain": [
       "['Jhonny jhonny yes papa',\n",
       " 'eating sugar no papa',\n",
       " 'telling a lie no papa',\n",
       " 'open your mouth haha']"
      ]
     },
     "execution_count": 40,
     "metadata": {},
     "output_type": "execute_result"
    }
   ],
   "source": [
    "poem.splitlines()"
   ]
  },
  {
   "cell_type": "markdown",
   "id": "d12a7684",
   "metadata": {},
   "source": [
    "JOIN"
   ]
  },
  {
   "cell_type": "code",
   "execution_count": 42,
   "id": "5971778c",
   "metadata": {},
   "outputs": [
    {
     "name": "stdout",
     "output_type": "stream",
     "text": [
      "C:/Users/Desktop/Python\n"
     ]
    }
   ],
   "source": [
    "path = ['C:','Users','Desktop','Python']\n",
    "print('/'.join(path))"
   ]
  },
  {
   "cell_type": "code",
   "execution_count": 53,
   "id": "cdb70418",
   "metadata": {},
   "outputs": [
    {
     "name": "stdout",
     "output_type": "stream",
     "text": [
      "['I', 'learning', 'Python']\n",
      "['I', 'am', 'learning', 'Python']\n",
      "I am learning Python\n",
      "I am learning Python\n"
     ]
    }
   ],
   "source": [
    "#PRACTISE\n",
    "\n",
    "text = \"I learning Python\"\n",
    "words = text.split()\n",
    "print(words)\n",
    "words.insert(1,'am')\n",
    "print(words)\n",
    "new_text = \" \".join(words)\n",
    "print(new_text)\n",
    "print(\" \".join(words))\n"
   ]
  },
  {
   "cell_type": "code",
   "execution_count": 63,
   "id": "d63cd1da",
   "metadata": {},
   "outputs": [
    {
     "name": "stdout",
     "output_type": "stream",
     "text": [
      "['am', 'learning']\n"
     ]
    }
   ],
   "source": [
    "words.remove('Python')\n",
    "print(words)"
   ]
  },
  {
   "cell_type": "markdown",
   "id": "2ee2cbbb",
   "metadata": {},
   "source": [
    "PRACTISE QUESTIONS"
   ]
  },
  {
   "cell_type": "code",
   "execution_count": 21,
   "id": "9d11835a",
   "metadata": {},
   "outputs": [
    {
     "data": {
      "text/plain": [
       "'Hello My Name Is Tj'"
      ]
     },
     "execution_count": 21,
     "metadata": {},
     "output_type": "execute_result"
    }
   ],
   "source": [
    "a = 'hello my naME IS tj'\n",
    "a.upper()\n",
    "a.lower()\n",
    "a.capitalize()\n",
    "a.title()\n",
    "#print(a)\n"
   ]
  },
  {
   "cell_type": "code",
   "execution_count": null,
   "id": "a58eb2c3",
   "metadata": {},
   "outputs": [
    {
     "name": "stdout",
     "output_type": "stream",
     "text": [
      "Everybody on the mcd  \n",
      "call when you say 123\n",
      "['Everybody on the mcd  ', 'call when you say 123']\n"
     ]
    },
    {
     "ename": "",
     "evalue": "",
     "output_type": "error",
     "traceback": [
      "\u001b[1;31mThe Kernel crashed while executing code in the current cell or a previous cell. \n",
      "\u001b[1;31mPlease review the code in the cell(s) to identify a possible cause of the failure. \n",
      "\u001b[1;31mClick <a href='https://aka.ms/vscodeJupyterKernelCrash'>here</a> for more info. \n",
      "\u001b[1;31mView Jupyter <a href='command:jupyter.viewOutput'>log</a> for further details."
     ]
    }
   ],
   "source": [
    "A='''Everybody on the mcd  \n",
    "call when you say 123'''\n",
    "print(A)\n",
    "B=A.splitlines()\n",
    "print(B)"
   ]
  },
  {
   "cell_type": "code",
   "execution_count": null,
   "id": "f4059e72",
   "metadata": {},
   "outputs": [
    {
     "data": {
      "text/plain": [
       "'E#v#e#r#y#b#o#d#y# #o#n# #t#h#e# #m#c#d# # #\\n#c#a#l#l# #w#h#e#n# #y#o#u# #s#a#y# #1#2#3'"
      ]
     },
     "execution_count": 51,
     "metadata": {},
     "output_type": "execute_result"
    }
   ],
   "source": [
    "A.find('call')\n",
    "A.replace('call','wellgo')\n",
    "A.replace('mcd','group on free')\n",
    "B = A.split()\n",
    "C = A.splitlines()\n",
    "print(C)\n",
    "print('*'.join(A))\n",
    "('#'.join(A))"
   ]
  },
  {
   "cell_type": "code",
   "execution_count": null,
   "id": "ded9cae9",
   "metadata": {},
   "outputs": [],
   "source": []
  }
 ],
 "metadata": {
  "kernelspec": {
   "display_name": "base",
   "language": "python",
   "name": "python3"
  },
  "language_info": {
   "codemirror_mode": {
    "name": "ipython",
    "version": 3
   },
   "file_extension": ".py",
   "mimetype": "text/x-python",
   "name": "python",
   "nbconvert_exporter": "python",
   "pygments_lexer": "ipython3",
   "version": "3.13.5"
  }
 },
 "nbformat": 4,
 "nbformat_minor": 5
}
