{
 "cells": [
  {
   "cell_type": "code",
   "execution_count": 2,
   "id": "9c18c2bc",
   "metadata": {},
   "outputs": [
    {
     "name": "stdout",
     "output_type": "stream",
     "text": [
      "True\n"
     ]
    }
   ],
   "source": [
    "#Q1\n",
    "x=4\n",
    "y=5\n",
    "z=x<y\n",
    "print(z)"
   ]
  },
  {
   "cell_type": "code",
   "execution_count": 5,
   "id": "7a8e24e9",
   "metadata": {},
   "outputs": [
    {
     "name": "stdout",
     "output_type": "stream",
     "text": [
      "helloworld\n"
     ]
    }
   ],
   "source": [
    "#Q2\n",
    "x='hello'\n",
    "y='world'\n",
    "z=x+y\n",
    "print(z)"
   ]
  },
  {
   "cell_type": "code",
   "execution_count": null,
   "id": "c7b8dfa7",
   "metadata": {},
   "outputs": [],
   "source": [
    "#Q3 \n",
    "not in "
   ]
  },
  {
   "cell_type": "code",
   "execution_count": 8,
   "id": "63c9f430",
   "metadata": {},
   "outputs": [
    {
     "name": "stdout",
     "output_type": "stream",
     "text": [
      "6\n"
     ]
    }
   ],
   "source": [
    "#Q4\n",
    "a=int(input('Enter a number'))\n",
    "print(a)\n",
    "\n"
   ]
  },
  {
   "cell_type": "code",
   "execution_count": 11,
   "id": "ecb350f7",
   "metadata": {},
   "outputs": [
    {
     "name": "stdout",
     "output_type": "stream",
     "text": [
      "<class 'int'>\n"
     ]
    }
   ],
   "source": [
    "#Q5\n",
    "a=1\n",
    "print(type(a))"
   ]
  },
  {
   "cell_type": "code",
   "execution_count": 13,
   "id": "448dfc51",
   "metadata": {},
   "outputs": [
    {
     "name": "stdout",
     "output_type": "stream",
     "text": [
      "24389\n"
     ]
    }
   ],
   "source": [
    "#Q6\n",
    "a=29\n",
    "print(a**3)"
   ]
  },
  {
   "cell_type": "code",
   "execution_count": 22,
   "id": "5d9d3752",
   "metadata": {},
   "outputs": [
    {
     "name": "stdout",
     "output_type": "stream",
     "text": [
      "False\n",
      "True\n",
      "False\n"
     ]
    }
   ],
   "source": [
    "#Q7\n",
    "a = int(input())\n",
    "b=int(input())\n",
    "if(a>b and b==a):\n",
    "    print(True)\n",
    "else:\n",
    "    print(False)\n",
    "\n",
    "\n",
    "a = int(input())\n",
    "b=int(input())\n",
    "if(a>b or b==a):\n",
    "    print(True)\n",
    "else:\n",
    "    print(False)\n",
    "\n",
    "\n",
    "a = int(input())\n",
    "b=int(input())\n",
    "if(a>b or b==a):\n",
    "    print(not(True))\n",
    "else:\n",
    "    print(False)\n",
    "\n",
    "    "
   ]
  },
  {
   "cell_type": "code",
   "execution_count": 24,
   "id": "d28da2f3",
   "metadata": {},
   "outputs": [],
   "source": [
    "a = int(input())\n",
    "b=int(input())\n",
    "if(a>b or b==a):\n",
    "    print(not(True))\n"
   ]
  },
  {
   "cell_type": "code",
   "execution_count": 30,
   "id": "d04a5439",
   "metadata": {},
   "outputs": [
    {
     "name": "stdout",
     "output_type": "stream",
     "text": [
      "2747747748096\n",
      "2747747890368\n"
     ]
    }
   ],
   "source": [
    "#Q8\n",
    "a = [1,2,3]\n",
    "b = [1,2,3]\n",
    "print(id(a))\n",
    "print(id(b))"
   ]
  },
  {
   "cell_type": "code",
   "execution_count": 34,
   "id": "41df7a3c",
   "metadata": {},
   "outputs": [
    {
     "data": {
      "text/plain": [
       "list"
      ]
     },
     "execution_count": 34,
     "metadata": {},
     "output_type": "execute_result"
    }
   ],
   "source": [
    "#Q9\n",
    "b\n",
    "type(b)"
   ]
  },
  {
   "cell_type": "code",
   "execution_count": 35,
   "id": "a7c19a2c",
   "metadata": {},
   "outputs": [
    {
     "name": "stdout",
     "output_type": "stream",
     "text": [
      "<class 'float'>\n"
     ]
    }
   ],
   "source": [
    "a=True\n",
    "print(type(float(a)))"
   ]
  },
  {
   "cell_type": "code",
   "execution_count": 36,
   "id": "703f5b44",
   "metadata": {},
   "outputs": [
    {
     "data": {
      "text/plain": [
       "int"
      ]
     },
     "execution_count": 36,
     "metadata": {},
     "output_type": "execute_result"
    }
   ],
   "source": [
    "b='5'\n",
    "type(int(b))"
   ]
  },
  {
   "cell_type": "code",
   "execution_count": 37,
   "id": "bed991dd",
   "metadata": {},
   "outputs": [
    {
     "name": "stdout",
     "output_type": "stream",
     "text": [
      "Positive\n"
     ]
    }
   ],
   "source": [
    "#Conditional Statement\n",
    "#1\n",
    "a = int(input())\n",
    "if(a>= 0):\n",
    "    print('Positive')\n",
    "else:\n",
    "    print('Not')"
   ]
  },
  {
   "cell_type": "code",
   "execution_count": 38,
   "id": "b4c04e34",
   "metadata": {},
   "outputs": [
    {
     "name": "stdout",
     "output_type": "stream",
     "text": [
      "odd\n"
     ]
    }
   ],
   "source": [
    "#2\n",
    "a = int(input())\n",
    "if(a%2==0):\n",
    "    print('even')\n",
    "else:\n",
    "    print('odd') \n"
   ]
  },
  {
   "cell_type": "code",
   "execution_count": 39,
   "id": "99d90cb8",
   "metadata": {},
   "outputs": [
    {
     "name": "stdout",
     "output_type": "stream",
     "text": [
      "leap year\n"
     ]
    }
   ],
   "source": [
    "#3\n",
    "a = int(input())\n",
    "if(a%4==0 and a%100!=0) or (a%400==0):\n",
    "    print('leap year')\n",
    "else:\n",
    "    print('No') \n",
    " "
   ]
  },
  {
   "cell_type": "code",
   "execution_count": 77,
   "id": "19ea03e2",
   "metadata": {},
   "outputs": [
    {
     "ename": "IndentationError",
     "evalue": "expected an indented block after 'for' statement on line 6 (241331092.py, line 7)",
     "output_type": "error",
     "traceback": [
      "  \u001b[36mCell\u001b[39m\u001b[36m \u001b[39m\u001b[32mIn[77]\u001b[39m\u001b[32m, line 7\u001b[39m\n\u001b[31m    \u001b[39m\u001b[31mif(a%i==0):\u001b[39m\n    ^\n\u001b[31mIndentationError\u001b[39m\u001b[31m:\u001b[39m expected an indented block after 'for' statement on line 6\n"
     ]
    }
   ],
   "source": [
    "#5 Prime\n",
    "a=int(input())\n",
    "if(a<2):\n",
    " print(\"it is not a prime number\")\n",
    "else:\n",
    "    for i in range (2,a):\n",
    "    if(a%i==0):\n",
    "        print('not a prime')\n",
    "        break\n",
    "    else:\n",
    "    print('prime')  "
   ]
  },
  {
   "cell_type": "code",
   "execution_count": 41,
   "id": "38a0a0ba",
   "metadata": {},
   "outputs": [
    {
     "name": "stdout",
     "output_type": "stream",
     "text": [
      "8\n"
     ]
    }
   ],
   "source": [
    "#4\n",
    "a= int(input())\n",
    "b = int(input())\n",
    "c= int(input())\n",
    "if(a>b and a>c):\n",
    "    print(a)\n",
    "elif(b>a and b>c):\n",
    "    print(b)\n",
    "else:\n",
    "    print(c)\n"
   ]
  },
  {
   "cell_type": "code",
   "execution_count": 42,
   "id": "d5dd2dcf",
   "metadata": {},
   "outputs": [
    {
     "name": "stdout",
     "output_type": "stream",
     "text": [
      "Not a vowel\n"
     ]
    }
   ],
   "source": [
    "#6\n",
    "a = input().lower()\n",
    "v=['a','e','i','o','u']\n",
    "if(a in v):\n",
    "    print('vowel')\n",
    "else:\n",
    "    print('Not a vowel')"
   ]
  },
  {
   "cell_type": "code",
   "execution_count": 67,
   "id": "102956c5",
   "metadata": {},
   "outputs": [
    {
     "name": "stdout",
     "output_type": "stream",
     "text": [
      "Not a Palindrome\n"
     ]
    }
   ],
   "source": [
    "#7 Palindrome\n",
    "a=input()\n",
    "rev=''\n",
    "for i in a:\n",
    "    rev=i+rev\n",
    "if a==rev:\n",
    "    print('Palindrome')\n",
    "else:\n",
    "    print('Not a Palindrome')\n",
    "\n",
    " "
   ]
  },
  {
   "cell_type": "code",
   "execution_count": 70,
   "id": "10b4eb60",
   "metadata": {},
   "outputs": [
    {
     "name": "stdout",
     "output_type": "stream",
     "text": [
      "720\n"
     ]
    }
   ],
   "source": [
    "#Factorial\n",
    "N=int(input())\n",
    "fact = 1\n",
    "for i in range(1,N+1):\n",
    "    fact=fact*i\n",
    "print(fact)    "
   ]
  },
  {
   "cell_type": "code",
   "execution_count": 1,
   "id": "25f91801",
   "metadata": {},
   "outputs": [
    {
     "data": {
      "text/plain": [
       "True"
      ]
     },
     "execution_count": 1,
     "metadata": {},
     "output_type": "execute_result"
    }
   ],
   "source": [
    "ord('a')\n",
    "ord('b')\n",
    "'a'<='b'"
   ]
  },
  {
   "cell_type": "code",
   "execution_count": 10,
   "id": "420335ee",
   "metadata": {},
   "outputs": [
    {
     "name": "stdout",
     "output_type": "stream",
     "text": [
      "True\n"
     ]
    }
   ],
   "source": [
    "a=2\n",
    "if(1 and 2):\n",
    "    print(bool(0 or 5))"
   ]
  }
 ],
 "metadata": {
  "kernelspec": {
   "display_name": "base",
   "language": "python",
   "name": "python3"
  },
  "language_info": {
   "codemirror_mode": {
    "name": "ipython",
    "version": 3
   },
   "file_extension": ".py",
   "mimetype": "text/x-python",
   "name": "python",
   "nbconvert_exporter": "python",
   "pygments_lexer": "ipython3",
   "version": "3.13.5"
  }
 },
 "nbformat": 4,
 "nbformat_minor": 5
}
