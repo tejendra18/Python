{
 "cells": [
  {
   "cell_type": "code",
   "execution_count": null,
   "id": "f97838e8",
   "metadata": {},
   "outputs": [],
   "source": []
  },
  {
   "cell_type": "code",
   "execution_count": 53,
   "id": "6511ec23",
   "metadata": {},
   "outputs": [
    {
     "name": "stdout",
     "output_type": "stream",
     "text": [
      "['Facebook', 'Instagram', 'Google', 'Uber', 'Twitter', 'Snapchat', 'Flipkart', 'Ajio', 'Myntra', 'Meesho']\n",
      "Facebook Instagram Google Uber Twitter Snapchat Flipkart Ajio Myntra Meesho "
     ]
    }
   ],
   "source": [
    "apps =['Facebook','Instagram','Google','Uber','Twitter','Snapchat','Flipkart','Ajio','Myntra','Meesho']\n",
    "print(apps)\n",
    "\n",
    "for i in apps:\n",
    " print (i,end=\" \")"
   ]
  },
  {
   "cell_type": "code",
   "execution_count": 8,
   "id": "d7e2a1b5",
   "metadata": {},
   "outputs": [],
   "source": [
    "#Indexing and Slicing"
   ]
  },
  {
   "cell_type": "code",
   "execution_count": null,
   "id": "f5b25db1",
   "metadata": {},
   "outputs": [],
   "source": []
  },
  {
   "cell_type": "code",
   "execution_count": 12,
   "id": "d8c9abe5",
   "metadata": {},
   "outputs": [
    {
     "name": "stdout",
     "output_type": "stream",
     "text": [
      "Twitter\n",
      "Flipkart\n"
     ]
    }
   ],
   "source": [
    "#Positive Indexing\n",
    "print(apps[4])\n",
    "print(apps[6])"
   ]
  },
  {
   "cell_type": "code",
   "execution_count": null,
   "id": "1fc8a6a1",
   "metadata": {},
   "outputs": [
    {
     "name": "stdout",
     "output_type": "stream",
     "text": [
      "['Instagram', 'Google', 'Uber', 'Twitter']\n",
      "['Instagram', 'Twitter', 'Ajio']\n",
      "['Google', 'Uber', 'Twitter', 'Snapchat', 'Flipkart', 'Ajio', 'Myntra', 'Meesho']\n",
      "['Flipkart', 'Ajio', 'Myntra', 'Meesho']\n",
      "['Facebook', 'Uber', 'Flipkart', 'Meesho']\n"
     ]
    }
   ],
   "source": [
    "apps =['Facebook','Instagram','Google','Uber','Twitter','Snapchat','Flipkart','Ajio',\n",
    "       'Myntra','Meesho']\n",
    "#Slicing\n",
    "print(apps[1:5])\n",
    "print(apps[1:8:3])\n",
    "print(apps[2:])\n",
    "print(apps[-4:])\n",
    "print(apps[::3])"
   ]
  },
  {
   "cell_type": "code",
   "execution_count": 3,
   "id": "be1703f4",
   "metadata": {},
   "outputs": [
    {
     "name": "stdout",
     "output_type": "stream",
     "text": [
      "['Facebook', 'Instagram', 'Google', 'Uber', 'Twitter', 'Snapchat', 'Flipkart', 'Ajio', 'Myntra', 'Meesho']\n",
      "['Instagram', 'Google']\n",
      "['Google', 'Uber', 'Twitter', 'Snapchat']\n",
      "['Instagram', 'Uber', 'Snapchat', 'Ajio', 'Meesho']\n"
     ]
    }
   ],
   "source": [
    "#Practise\n",
    "print(apps)\n",
    "print(apps[1:3])\n",
    "print(apps[2:6])\n",
    "print(apps[1:10:2])\n"
   ]
  },
  {
   "cell_type": "markdown",
   "id": "c1d73267",
   "metadata": {},
   "source": [
    "List Methods\n",
    ". append() - to add item at the end of the list\n",
    ". insert() - to insert item at any specific position in the list\n",
    ". pop() - to delete item using its index position\n",
    ". remove() - to delte items using item name\n",
    ". copy() - to make a duplicate of the list \n",
    ". sort() - to sort the list in a particular order\n",
    ". extend() - to combine two list in a single list\n",
    ". clear() - to delete all the items from the list but not list\n",
    "\n",
    "#Drawback \n",
    ". can work on 1 item\n",
    ". keeps on repeating\n"
   ]
  },
  {
   "cell_type": "code",
   "execution_count": 32,
   "id": "db17a171",
   "metadata": {},
   "outputs": [
    {
     "name": "stdout",
     "output_type": "stream",
     "text": [
      "['Facebook', 'Instagram', 'Google', 'Uber', 'Twitter', 'Snapchat', 'Flipkart', 'Ajio', 'Myntra', 'Meesho']\n"
     ]
    }
   ],
   "source": [
    "print(apps)"
   ]
  },
  {
   "cell_type": "markdown",
   "id": "b8581ade",
   "metadata": {},
   "source": [
    "APPEND"
   ]
  },
  {
   "cell_type": "code",
   "execution_count": 35,
   "id": "faa8f700",
   "metadata": {},
   "outputs": [
    {
     "name": "stdout",
     "output_type": "stream",
     "text": [
      "['Facebook', 'Instagram', 'Google', 'Uber', 'Twitter', 'Snapchat', 'Flipkart', 'Ajio', 'Myntra', 'Meesho', 'Netflix', 'Netflix']\n",
      "None\n"
     ]
    }
   ],
   "source": [
    "apps.append(\"Netflix\")\n",
    "print(apps)\n",
    "#print(apps.append('Hello'))"
   ]
  },
  {
   "cell_type": "markdown",
   "id": "63e0cace",
   "metadata": {},
   "source": [
    "INSERT"
   ]
  },
  {
   "cell_type": "code",
   "execution_count": 36,
   "id": "72cf01d4",
   "metadata": {},
   "outputs": [
    {
     "name": "stdout",
     "output_type": "stream",
     "text": [
      "['Facebook', 'Instagram', 'youtube', 'Google', 'Uber', 'Twitter', 'Snapchat', 'Flipkart', 'Ajio', 'Myntra', 'Meesho', 'Netflix', 'Netflix', 'Hello']\n"
     ]
    }
   ],
   "source": [
    "apps.insert(2,'youtube')\n",
    "print (apps)"
   ]
  },
  {
   "cell_type": "markdown",
   "id": "d5948623",
   "metadata": {},
   "source": [
    "POP"
   ]
  },
  {
   "cell_type": "code",
   "execution_count": 40,
   "id": "95d4b2f4",
   "metadata": {},
   "outputs": [
    {
     "name": "stdout",
     "output_type": "stream",
     "text": [
      "['Facebook', 'Instagram', 'youtube', 'Google', 'Uber', 'Twitter', 'Snapchat', 'Flipkart', 'Ajio', 'Myntra', 'Meesho', 'Netflix']\n",
      "['Facebook', 'Instagram', 'youtube', 'Google', 'Uber', 'Twitter', 'Snapchat', 'Flipkart', 'Ajio', 'Myntra', 'Netflix']\n"
     ]
    }
   ],
   "source": [
    "apps.pop() #by default deltes the last item\n",
    "print(apps)\n",
    "\n",
    "apps.pop(-2)\n",
    "print(apps)\n"
   ]
  },
  {
   "cell_type": "markdown",
   "id": "c2009cea",
   "metadata": {},
   "source": [
    "REMOVE"
   ]
  },
  {
   "cell_type": "code",
   "execution_count": 43,
   "id": "da1749b8",
   "metadata": {},
   "outputs": [
    {
     "name": "stdout",
     "output_type": "stream",
     "text": [
      "['Facebook', 'Instagram', 'youtube', 'Google', 'Uber', 'Twitter', 'Snapchat', 'Flipkart', 'Ajio', 'Myntra', 'Netflix']\n"
     ]
    }
   ],
   "source": [
    "print(apps)\n",
    "apps.remove('Flipkart')"
   ]
  },
  {
   "cell_type": "markdown",
   "id": "3107c235",
   "metadata": {},
   "source": [
    "COPY"
   ]
  },
  {
   "cell_type": "code",
   "execution_count": 46,
   "id": "b8d05a54",
   "metadata": {},
   "outputs": [
    {
     "name": "stdout",
     "output_type": "stream",
     "text": [
      "['Facebook', 'Instagram', 'youtube', 'Google', 'Uber', 'Twitter', 'Snapchat', 'Ajio', 'Myntra', 'Netflix']\n"
     ]
    }
   ],
   "source": [
    "copy = apps.copy()\n",
    "print(copy)"
   ]
  },
  {
   "cell_type": "markdown",
   "id": "06ad7856",
   "metadata": {},
   "source": [
    "CLEAR"
   ]
  },
  {
   "cell_type": "code",
   "execution_count": 51,
   "id": "d935d75a",
   "metadata": {},
   "outputs": [
    {
     "name": "stdout",
     "output_type": "stream",
     "text": [
      "[]\n"
     ]
    }
   ],
   "source": [
    "apps.clear()\n",
    "print(apps)"
   ]
  },
  {
   "cell_type": "markdown",
   "id": "4a31a79f",
   "metadata": {},
   "source": [
    "SORT"
   ]
  },
  {
   "cell_type": "code",
   "execution_count": 54,
   "id": "2ef647b5",
   "metadata": {},
   "outputs": [
    {
     "name": "stdout",
     "output_type": "stream",
     "text": [
      "['Ajio', 'Facebook', 'Flipkart', 'Google', 'Instagram', 'Meesho', 'Myntra', 'Snapchat', 'Twitter', 'Uber']\n"
     ]
    }
   ],
   "source": [
    "apps.sort()\n",
    "print(apps)"
   ]
  },
  {
   "cell_type": "markdown",
   "id": "c7be6901",
   "metadata": {},
   "source": [
    "EXTEND"
   ]
  },
  {
   "cell_type": "code",
   "execution_count": 59,
   "id": "e629d2a0",
   "metadata": {},
   "outputs": [
    {
     "name": "stdout",
     "output_type": "stream",
     "text": [
      "[1, 2, 3, 4, 5]\n"
     ]
    }
   ],
   "source": [
    "apps2 = [1,2,3,4,5]\n",
    "print(apps2)"
   ]
  },
  {
   "cell_type": "code",
   "execution_count": 64,
   "id": "f6c0df81",
   "metadata": {},
   "outputs": [
    {
     "name": "stdout",
     "output_type": "stream",
     "text": [
      "['Ajio', 'Facebook', 'Flipkart', 'Google', 'Instagram', 'Meesho', 'Myntra', 'Snapchat', 'Twitter', 'Uber', 1, 2, 3, 4, 5, 1, 2, 3, 4, 5, 1, 2, 3, 4, 5, 'Ajio', 'Facebook', 'Flipkart', 'Google', 'Instagram', 'Meesho', 'Myntra', 'Snapchat', 'Twitter', 'Uber', 1, 2, 3, 4, 5, 1, 2, 3, 4, 5, 'Ajio', 'Facebook', 'Flipkart', 'Google', 'Instagram', 'Meesho', 'Myntra', 'Snapchat', 'Twitter', 'Uber', 1, 2, 3, 4, 5, 1, 2, 3, 4, 5]\n"
     ]
    }
   ],
   "source": [
    "apps.extend(apps2)\n",
    "print(apps)"
   ]
  },
  {
   "cell_type": "code",
   "execution_count": 4,
   "id": "3cdbb712",
   "metadata": {},
   "outputs": [
    {
     "ename": "NameError",
     "evalue": "name 'apps2' is not defined",
     "output_type": "error",
     "traceback": [
      "\u001b[31m---------------------------------------------------------------------------\u001b[39m",
      "\u001b[31mNameError\u001b[39m                                 Traceback (most recent call last)",
      "\u001b[36mCell\u001b[39m\u001b[36m \u001b[39m\u001b[32mIn[4]\u001b[39m\u001b[32m, line 1\u001b[39m\n\u001b[32m----> \u001b[39m\u001b[32m1\u001b[39m apps2.extend(apps)\n\u001b[32m      2\u001b[39m \u001b[38;5;28mprint\u001b[39m(apps)\n",
      "\u001b[31mNameError\u001b[39m: name 'apps2' is not defined"
     ]
    }
   ],
   "source": [
    "apps2.extend(apps)\n",
    "print(apps)"
   ]
  },
  {
   "cell_type": "code",
   "execution_count": 8,
   "id": "862b7d5f",
   "metadata": {},
   "outputs": [
    {
     "name": "stdout",
     "output_type": "stream",
     "text": [
      "gda\n"
     ]
    }
   ],
   "source": [
    "s = \"abcdefgh\"\n",
    "print(s[::3][::-1])"
   ]
  }
 ],
 "metadata": {
  "kernelspec": {
   "display_name": "base",
   "language": "python",
   "name": "python3"
  },
  "language_info": {
   "codemirror_mode": {
    "name": "ipython",
    "version": 3
   },
   "file_extension": ".py",
   "mimetype": "text/x-python",
   "name": "python",
   "nbconvert_exporter": "python",
   "pygments_lexer": "ipython3",
   "version": "3.13.5"
  }
 },
 "nbformat": 4,
 "nbformat_minor": 5
}
