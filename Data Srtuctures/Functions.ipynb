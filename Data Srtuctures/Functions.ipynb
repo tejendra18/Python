{
 "cells": [
  {
   "cell_type": "markdown",
   "id": "a13ba9b2",
   "metadata": {},
   "source": [
    "- user defined functions\n",
    "  - parameterizef function\n",
    "  - non parameterized functions\n",
    "  - return function\n",
    "  - non return function\n",
    "  - default parameterized function\n",
    "  - lambda function\n",
    "\n",
    "- Built in function"
   ]
  },
  {
   "cell_type": "code",
   "execution_count": 11,
   "id": "5dc309b5",
   "metadata": {},
   "outputs": [
    {
     "name": "stdout",
     "output_type": "stream",
     "text": [
      "Hello Again\n"
     ]
    }
   ],
   "source": [
    "#Non paramterized function\n",
    "def greet(): #function initialization\n",
    "    print('Hello user')\n",
    "    print('Welcome to our function notebook')\n",
    "    print('See you in another class')\n",
    "\n",
    "print('Hello Again')"
   ]
  },
  {
   "cell_type": "code",
   "execution_count": 6,
   "id": "f7758ae4",
   "metadata": {},
   "outputs": [
    {
     "name": "stdout",
     "output_type": "stream",
     "text": [
      "Hello user\n",
      "Welcome to our function notebook\n",
      "See you in another class\n"
     ]
    }
   ],
   "source": [
    "greet() #Function calling"
   ]
  },
  {
   "cell_type": "code",
   "execution_count": 10,
   "id": "9a8e9384",
   "metadata": {},
   "outputs": [
    {
     "name": "stdout",
     "output_type": "stream",
     "text": [
      "Hello user\n",
      "Welcome to our function notebook\n",
      "See you in another class\n"
     ]
    }
   ],
   "source": [
    "greet()"
   ]
  },
  {
   "cell_type": "code",
   "execution_count": 12,
   "id": "8042689b",
   "metadata": {},
   "outputs": [],
   "source": [
    "#parameterized function\n",
    "def sum(a,b): #Parameters\n",
    "    print(a+b)"
   ]
  },
  {
   "cell_type": "code",
   "execution_count": 15,
   "id": "91aa737a",
   "metadata": {},
   "outputs": [
    {
     "name": "stdout",
     "output_type": "stream",
     "text": [
      "11\n"
     ]
    }
   ],
   "source": [
    "sum(5,6)"
   ]
  },
  {
   "cell_type": "code",
   "execution_count": 30,
   "id": "57c3c376",
   "metadata": {},
   "outputs": [
    {
     "name": "stdout",
     "output_type": "stream",
     "text": [
      "25.0\n",
      "None\n"
     ]
    }
   ],
   "source": [
    "#non return function\n",
    "def avd(a,b,c,d):\n",
    "    print((a+b+c+d)/4)\n",
    "\n",
    "average = avd(10,20,30,40)\n",
    "print(average)\n",
    "\n",
    "   \n"
   ]
  },
  {
   "cell_type": "code",
   "execution_count": 31,
   "id": "b1898d8e",
   "metadata": {},
   "outputs": [
    {
     "name": "stdout",
     "output_type": "stream",
     "text": [
      "25.0\n"
     ]
    }
   ],
   "source": [
    "#return function\n",
    "def avg(a,b,c,d):\n",
    "    return(a+b+c+d)/4\n",
    "\n",
    "average = avg(10,20,30,40)\n",
    "print(average)"
   ]
  },
  {
   "cell_type": "code",
   "execution_count": 34,
   "id": "7fe02f34",
   "metadata": {},
   "outputs": [
    {
     "name": "stdout",
     "output_type": "stream",
     "text": [
      "I love USA\n",
      "I love Canada\n",
      "I love UK\n",
      "I love INDIA\n"
     ]
    }
   ],
   "source": [
    "#default parameterized\n",
    "def myCountry(country='INDIA'):\n",
    "    print(f'I love {country}')\n",
    " \n",
    "\n",
    "\n",
    "\n",
    "\n",
    "myCountry(\"USA\")\n",
    "myCountry(\"Canada\")\n",
    "myCountry(\"UK\")\n",
    "myCountry()    \n",
    "\n"
   ]
  },
  {
   "cell_type": "code",
   "execution_count": 65,
   "id": "7bad5688",
   "metadata": {},
   "outputs": [
    {
     "name": "stdout",
     "output_type": "stream",
     "text": [
      "25\n"
     ]
    },
    {
     "data": {
      "text/plain": [
       "25"
      ]
     },
     "execution_count": 65,
     "metadata": {},
     "output_type": "execute_result"
    }
   ],
   "source": [
    "#Lambda function\n",
    "square = lambda a:a**2\n",
    "print(square(5))\n",
    "\n",
    "square(5)"
   ]
  },
  {
   "cell_type": "code",
   "execution_count": 43,
   "id": "4a6299db",
   "metadata": {},
   "outputs": [
    {
     "name": "stdout",
     "output_type": "stream",
     "text": [
      "Odd\n"
     ]
    }
   ],
   "source": [
    "def even(a):\n",
    "    if(a%2==0):\n",
    "        return ('Even')\n",
    "    else:\n",
    "        return (\"Odd\")\n",
    "num=even(25)\n",
    "print(num)    "
   ]
  },
  {
   "cell_type": "code",
   "execution_count": 66,
   "id": "dea71c3c",
   "metadata": {},
   "outputs": [
    {
     "name": "stdout",
     "output_type": "stream",
     "text": [
      "Even number\n"
     ]
    }
   ],
   "source": [
    "even = lambda n: print(\"Even number\") if n%2==0 else print('odd number')\n",
    "even(6)"
   ]
  },
  {
   "cell_type": "markdown",
   "id": "8164660a",
   "metadata": {},
   "source": [
    " - to find number is prime or not"
   ]
  },
  {
   "cell_type": "code",
   "execution_count": 54,
   "id": "598551ad",
   "metadata": {},
   "outputs": [
    {
     "name": "stdout",
     "output_type": "stream",
     "text": [
      "Prime\n"
     ]
    }
   ],
   "source": [
    "def prime(n):\n",
    "    for i in range(2,n):\n",
    "        if(n%i == 0):\n",
    "            print('not prime')\n",
    "            break\n",
    "    else:\n",
    "     print('Prime')\n",
    "\n",
    "\n",
    "prime(3)"
   ]
  },
  {
   "cell_type": "markdown",
   "id": "58ddb504",
   "metadata": {},
   "source": [
    "to check a year leap or not"
   ]
  },
  {
   "cell_type": "code",
   "execution_count": 53,
   "id": "464bd801",
   "metadata": {},
   "outputs": [
    {
     "name": "stdout",
     "output_type": "stream",
     "text": [
      "Not a leap yeaer\n"
     ]
    }
   ],
   "source": [
    "def leap(a):\n",
    "    if(a%4==0 and a%100!=0) or (a%400 ==0):\n",
    "        print('leap year')\n",
    "    else:\n",
    "        print('Not a leap yeaer') \n",
    "\n",
    "leap(2025)\n",
    "    "
   ]
  },
  {
   "cell_type": "markdown",
   "id": "922d64f0",
   "metadata": {},
   "source": [
    "to calcutate 10% of 200000"
   ]
  },
  {
   "cell_type": "code",
   "execution_count": 62,
   "id": "6c1da78a",
   "metadata": {},
   "outputs": [
    {
     "name": "stdout",
     "output_type": "stream",
     "text": [
      "20000.0\n"
     ]
    }
   ],
   "source": [
    "def percent():\n",
    "    print(10/100*200000)\n",
    "\n",
    "percent()"
   ]
  },
  {
   "cell_type": "markdown",
   "id": "9c29f825",
   "metadata": {},
   "source": [
    "Q1 to take a list of 5 numbers and return square of each nmber\n"
   ]
  },
  {
   "cell_type": "code",
   "execution_count": 93,
   "id": "55ff121d",
   "metadata": {},
   "outputs": [
    {
     "name": "stdout",
     "output_type": "stream",
     "text": [
      "[1, 4, 9, 16, 25]\n"
     ]
    }
   ],
   "source": [
    "#Q1 Normal Method\n",
    "H1 = [int(input()),int(input()),int(input()),int(input()),int(input())]\n",
    "a=[]\n",
    "a = [H1[0]**2,H1[1]**2,H1[2]**2,H1[3]**2,H1[4]**2]\n",
    "print(a)\n",
    "\n"
   ]
  },
  {
   "cell_type": "code",
   "execution_count": 94,
   "id": "59bdca9c",
   "metadata": {},
   "outputs": [
    {
     "name": "stdout",
     "output_type": "stream",
     "text": [
      "[1, 4, 9, 16, 25]\n"
     ]
    }
   ],
   "source": [
    "#Different method\n",
    "ls=[1,2,3,4,5]\n",
    "la = []\n",
    "for i in ls:\n",
    "    la.append(i**2)\n",
    "\n",
    "print(la)"
   ]
  },
  {
   "cell_type": "code",
   "execution_count": 89,
   "id": "aabbfc42",
   "metadata": {},
   "outputs": [
    {
     "name": "stdout",
     "output_type": "stream",
     "text": [
      "[1, 4, 9, 16, 25]\n"
     ]
    }
   ],
   "source": [
    "#Q1 Using function\n",
    "def list(a):\n",
    "    a = [int(input()),int(input()),int(input()),int(input()),int(input())]\n",
    "    return([a[0]**2,a[1]**2,a[2]**2,a[3]**2,a[4]**2])\n",
    "\n",
    "G= list('a')\n",
    "print(G)\n",
    "\n",
    "\n"
   ]
  },
  {
   "cell_type": "markdown",
   "id": "f1b0804b",
   "metadata": {},
   "source": [
    "Q2 to take a list of 10 numbers and return a new list with only even number"
   ]
  },
  {
   "cell_type": "code",
   "execution_count": null,
   "id": "a66247d8",
   "metadata": {},
   "outputs": [
    {
     "name": "stdout",
     "output_type": "stream",
     "text": [
      "[2, 4, 6, 8, 10]\n"
     ]
    }
   ],
   "source": [
    "#Q2 Normal Method\n",
    "B = [int(input()),int(input()),int(input()),int(input()),int(input()),\n",
    "     int(input()),int(input()),int(input()),int(input()),int(input())]\n",
    "C=[]\n",
    "\n",
    "for  i in (B):\n",
    "    if i%2==0:\n",
    "        C.append(i)\n",
    "\n",
    "print(C)"
   ]
  },
  {
   "cell_type": "code",
   "execution_count": 88,
   "id": "0179da41",
   "metadata": {},
   "outputs": [
    {
     "name": "stdout",
     "output_type": "stream",
     "text": [
      "[2, 4, 6, 8, 0]\n"
     ]
    }
   ],
   "source": [
    "#Q2 Using function\n",
    "\n",
    "def ab(c):\n",
    "     c = [int(input()),int(input()),int(input()),int(input()),int(input()),\n",
    "     int(input()),int(input()),int(input()),int(input()),int(input())]\n",
    "     d=[]\n",
    "     for i in c:\n",
    "          if i%2==0:\n",
    "               d.append(i)\n",
    "     return(d)\n",
    "\n",
    "ex = ab('f')\n",
    "print(ex)\n",
    "\n"
   ]
  }
 ],
 "metadata": {
  "kernelspec": {
   "display_name": "Python 3",
   "language": "python",
   "name": "python3"
  },
  "language_info": {
   "codemirror_mode": {
    "name": "ipython",
    "version": 3
   },
   "file_extension": ".py",
   "mimetype": "text/x-python",
   "name": "python",
   "nbconvert_exporter": "python",
   "pygments_lexer": "ipython3",
   "version": "3.11.1"
  }
 },
 "nbformat": 4,
 "nbformat_minor": 5
}
