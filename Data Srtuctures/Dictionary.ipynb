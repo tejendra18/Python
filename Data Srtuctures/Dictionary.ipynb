{
 "cells": [
  {
   "cell_type": "markdown",
   "id": "7de2c099",
   "metadata": {},
   "source": [
    "- how to declare dictionary\n",
    "- how to access key and values\n",
    "- how to apply loops\n",
    "- how to make nested dictionaries\n",
    "- how to access values in nested dictionary"
   ]
  },
  {
   "cell_type": "code",
   "execution_count": 4,
   "id": "a3b5be53",
   "metadata": {},
   "outputs": [
    {
     "name": "stdout",
     "output_type": "stream",
     "text": [
      "{1: 'one', 2: 'two', 3: 'three', 4: 'four', 5: 'five'}\n",
      "five two\n"
     ]
    }
   ],
   "source": [
    "A = {1:'one',2:'two',\n",
    "    3:'three',4:'four',\n",
    "    5:'five'\n",
    "}\n",
    "print(A)\n",
    "print(A[5],A[2])"
   ]
  },
  {
   "cell_type": "code",
   "execution_count": 7,
   "id": "7a973ee1",
   "metadata": {},
   "outputs": [],
   "source": [
    "student= {\n",
    "    'name':'Alice',\n",
    "    'age':20,\n",
    "    'city' : 'Lko'\n",
    "}"
   ]
  },
  {
   "cell_type": "markdown",
   "id": "aaa3bc63",
   "metadata": {},
   "source": [
    "MULTIPLE VALUES"
   ]
  },
  {
   "cell_type": "code",
   "execution_count": 3,
   "id": "23bda9bb",
   "metadata": {},
   "outputs": [
    {
     "name": "stdout",
     "output_type": "stream",
     "text": [
      "{'lko': [35, 40, 38], 'delhi': [30, 32, 34], 'mumbai': [28, 26, 30]}\n"
     ]
    }
   ],
   "source": [
    "temp = {\n",
    "    'lko' : [35,40,38],\n",
    "    'delhi' : [30,32,34,],\n",
    "    'mumbai' : [28,26,30]\n",
    "}\n",
    "print(temp)"
   ]
  },
  {
   "cell_type": "markdown",
   "id": "f3590c5f",
   "metadata": {},
   "source": [
    "TYPE CAST"
   ]
  },
  {
   "cell_type": "code",
   "execution_count": 12,
   "id": "09e4c84e",
   "metadata": {},
   "outputs": [
    {
     "name": "stdout",
     "output_type": "stream",
     "text": [
      "{'name': 'Aice', 'age': 23, 'city': 'lko'}\n"
     ]
    }
   ],
   "source": [
    "info = dict(name = 'Aice',age = 23,city = 'lko')\n",
    "print(info)"
   ]
  },
  {
   "cell_type": "markdown",
   "id": "57bb0975",
   "metadata": {},
   "source": [
    "USER INPUT"
   ]
  },
  {
   "cell_type": "code",
   "execution_count": 13,
   "id": "0b4d5169",
   "metadata": {},
   "outputs": [
    {
     "name": "stdout",
     "output_type": "stream",
     "text": [
      "{'name': 'TJ', 'age': 23, 'city': 'lko'}\n"
     ]
    }
   ],
   "source": [
    "info = dict(name = input('Enter your name'),age = 23,city = 'lko')\n",
    "print(info)"
   ]
  },
  {
   "cell_type": "code",
   "execution_count": 16,
   "id": "2c772042",
   "metadata": {},
   "outputs": [
    {
     "data": {
      "text/plain": [
       "23"
      ]
     },
     "execution_count": 16,
     "metadata": {},
     "output_type": "execute_result"
    }
   ],
   "source": [
    "#1st method to access value through key\n",
    "student['name']\n",
    "info['age']"
   ]
  },
  {
   "cell_type": "code",
   "execution_count": 8,
   "id": "59f7b9af",
   "metadata": {},
   "outputs": [
    {
     "data": {
      "text/plain": [
       "[31, 52, 25]"
      ]
     },
     "execution_count": 8,
     "metadata": {},
     "output_type": "execute_result"
    }
   ],
   "source": [
    "#2nd method to access value through key\n",
    "student.get(\"name\")\n",
    "temp.get(\"lko\")"
   ]
  },
  {
   "cell_type": "markdown",
   "id": "363938a2",
   "metadata": {},
   "source": [
    "DICTIONARY METHODS"
   ]
  },
  {
   "cell_type": "code",
   "execution_count": 21,
   "id": "42ec4eab",
   "metadata": {},
   "outputs": [
    {
     "name": "stdout",
     "output_type": "stream",
     "text": [
      "dict_keys(['name', 'age', 'city'])\n",
      "dict_values(['Alice', 20, 'Lko'])\n",
      "dict_items([('name', 'Alice'), ('age', 20), ('city', 'Lko')])\n"
     ]
    }
   ],
   "source": [
    "print(student.keys())\n",
    "print(student.values())\n",
    "print(student.items())"
   ]
  },
  {
   "cell_type": "markdown",
   "id": "f7fbf001",
   "metadata": {},
   "source": [
    "LOOPS IN DICTIONARY"
   ]
  },
  {
   "cell_type": "code",
   "execution_count": 26,
   "id": "226ed7ad",
   "metadata": {},
   "outputs": [
    {
     "name": "stdout",
     "output_type": "stream",
     "text": [
      "name\n",
      "age\n",
      "city\n",
      "name:TJ\n",
      "age:23\n",
      "city:lko\n"
     ]
    }
   ],
   "source": [
    "for k in info:\n",
    "    print(k)\n",
    "\n",
    "\n",
    "for k,v in info.items():\n",
    "    print(f'{k}:{v}')\n",
    "\n",
    "\n"
   ]
  },
  {
   "cell_type": "markdown",
   "id": "e5f5ab0c",
   "metadata": {},
   "source": [
    "NESTED DICTIONRY"
   ]
  },
  {
   "cell_type": "code",
   "execution_count": 30,
   "id": "9f0032ac",
   "metadata": {},
   "outputs": [
    {
     "name": "stdout",
     "output_type": "stream",
     "text": [
      "{'emp001': {'name': 'Alice', 'age': 30, 'department': 'HR'}, 'emp002': {'name': 'Bob', 'age': 25, 'department': 'IT'}, 'emp003': {'name': 'Charlie', 'age': 29, 'department': 'Finance'}}\n"
     ]
    }
   ],
   "source": [
    "company ={\n",
    "    'emp001':{\n",
    "        'name':'Alice',\n",
    "        'age': 30,\n",
    "        'department' : 'HR'\n",
    "    },\n",
    "    'emp002':{\n",
    "        'name':'Bob',\n",
    "        'age': 25,\n",
    "        'department' : 'IT'\n",
    "    },\n",
    "    'emp003':{\n",
    "        'name':'Charlie',\n",
    "        'age': 29,\n",
    "        'department' : 'Finance'\n",
    "    },\n",
    "}\n",
    "\n",
    "print(company)"
   ]
  },
  {
   "cell_type": "markdown",
   "id": "0be7ca36",
   "metadata": {},
   "source": [
    "ADD A VALUE"
   ]
  },
  {
   "cell_type": "code",
   "execution_count": 31,
   "id": "e363d00e",
   "metadata": {},
   "outputs": [
    {
     "name": "stdout",
     "output_type": "stream",
     "text": [
      "{'emp001': {'name': 'Alice', 'age': 30, 'department': 'HR'}, 'emp002': {'name': 'Bob', 'age': 25, 'department': 'IT'}, 'emp003': {'name': 'Charlie', 'age': 29, 'department': 'Finance'}, 'emp004': {'name': 'David', 'age': 35, 'department': 'Marketing'}}\n"
     ]
    }
   ],
   "source": [
    "company['emp004'] = {\n",
    "    'name' : 'David',\n",
    "    'age' : 35,\n",
    "    'department':'Marketing'\n",
    "}\n",
    "\n",
    "print(company)"
   ]
  },
  {
   "cell_type": "markdown",
   "id": "b3762423",
   "metadata": {},
   "source": [
    "ACCESS ELEMENTS IN NESTED DICTIONARY"
   ]
  },
  {
   "cell_type": "code",
   "execution_count": 32,
   "id": "226b0742",
   "metadata": {},
   "outputs": [
    {
     "data": {
      "text/plain": [
       "'IT'"
      ]
     },
     "execution_count": 32,
     "metadata": {},
     "output_type": "execute_result"
    }
   ],
   "source": [
    "company['emp002']['department']\n",
    "\n"
   ]
  },
  {
   "cell_type": "code",
   "execution_count": null,
   "id": "0e82e62e",
   "metadata": {},
   "outputs": [
    {
     "name": "stdout",
     "output_type": "stream",
     "text": [
      "{'lko': [31, 52, 25], 'del': [65, 13, 62], 'Mum': [30, 53, 36]}\n",
      "Average is  36.0\n"
     ]
    }
   ],
   "source": [
    "#WAP to print the average temparature of lko key of dictionary\n",
    "\n",
    "temp = {'lko':[31,52,25],\n",
    "        'del':[65,13,62],\n",
    "        'Mum':[30,53,36],\n",
    "}\n",
    "sum = 0\n",
    "num = 0\n",
    "print(temp)\n",
    "B = temp['lko']\n",
    "for i in B:\n",
    "    sum = sum + i\n",
    "    num = num + 1\n",
    "print('Average is ',sum/num)\n",
    "\n",
    "\n",
    "    "
   ]
  },
  {
   "cell_type": "code",
   "execution_count": 5,
   "id": "01e40970",
   "metadata": {},
   "outputs": [
    {
     "data": {
      "text/plain": [
       "37.67"
      ]
     },
     "execution_count": 5,
     "metadata": {},
     "output_type": "execute_result"
    }
   ],
   "source": [
    "#WAP to print the average temparature of lko key of dictionary\n",
    "\n",
    "round(sum(temp['lko'])/len(temp['lko']),2)"
   ]
  },
  {
   "cell_type": "markdown",
   "id": "4e28882c",
   "metadata": {},
   "source": [
    "PRACTISE QUESTION"
   ]
  },
  {
   "cell_type": "code",
   "execution_count": 17,
   "id": "3dbcba30",
   "metadata": {},
   "outputs": [
    {
     "name": "stdout",
     "output_type": "stream",
     "text": [
      "{1: 'Jan', 2: 'February', 3: 'March', 4: 'April', 5: 'May', 6: 'June'}\n"
     ]
    },
    {
     "data": {
      "text/plain": [
       "'March'"
      ]
     },
     "execution_count": 17,
     "metadata": {},
     "output_type": "execute_result"
    }
   ],
   "source": [
    "Year = {1:input('Enter your month'),2:'February',3:'March',4:'April',5:'May',6:'June'}\n",
    "print(Year)\n",
    "Year[5]\n",
    "Year.get(3)"
   ]
  }
 ],
 "metadata": {
  "kernelspec": {
   "display_name": "Python 3",
   "language": "python",
   "name": "python3"
  },
  "language_info": {
   "codemirror_mode": {
    "name": "ipython",
    "version": 3
   },
   "file_extension": ".py",
   "mimetype": "text/x-python",
   "name": "python",
   "nbconvert_exporter": "python",
   "pygments_lexer": "ipython3",
   "version": "3.11.1"
  }
 },
 "nbformat": 4,
 "nbformat_minor": 5
}
