{
 "cells": [
  {
   "cell_type": "code",
   "execution_count": 4,
   "id": "6103799d",
   "metadata": {},
   "outputs": [
    {
     "name": "stdout",
     "output_type": "stream",
     "text": [
      "<class 'int'>\n"
     ]
    }
   ],
   "source": [
    "i = 50\n",
    "i\n",
    "print (type(i))"
   ]
  },
  {
   "cell_type": "code",
   "execution_count": 5,
   "id": "808e26ad",
   "metadata": {},
   "outputs": [],
   "source": [
    "name = 'mickey'"
   ]
  },
  {
   "cell_type": "code",
   "execution_count": 1,
   "id": "0e06ecde",
   "metadata": {},
   "outputs": [
    {
     "name": "stdout",
     "output_type": "stream",
     "text": [
      "<class 'str'>\n",
      "do\n"
     ]
    }
   ],
   "source": [
    "name = 'do'\n",
    "print(type (name))\n",
    "print(name)"
   ]
  },
  {
   "cell_type": "code",
   "execution_count": 23,
   "id": "95972006",
   "metadata": {},
   "outputs": [
    {
     "data": {
      "text/plain": [
       "str"
      ]
     },
     "execution_count": 23,
     "metadata": {},
     "output_type": "execute_result"
    }
   ],
   "source": [
    "a = '25'\n",
    "type(a)\n",
    "##print (a)"
   ]
  },
  {
   "cell_type": "code",
   "execution_count": 24,
   "id": "80a2404f",
   "metadata": {},
   "outputs": [
    {
     "name": "stdout",
     "output_type": "stream",
     "text": [
      "25do\n"
     ]
    }
   ],
   "source": [
    "print (a + name)"
   ]
  },
  {
   "cell_type": "code",
   "execution_count": 3,
   "id": "08e52c7a",
   "metadata": {},
   "outputs": [],
   "source": [
    "a,b,c = 5,4,3"
   ]
  },
  {
   "cell_type": "code",
   "execution_count": 4,
   "id": "ba49af81",
   "metadata": {},
   "outputs": [
    {
     "name": "stdout",
     "output_type": "stream",
     "text": [
      "<class 'int'>\n",
      "12\n"
     ]
    }
   ],
   "source": [
    "print(type(a))\n",
    "print (a+b+c)"
   ]
  },
  {
   "cell_type": "code",
   "execution_count": 1,
   "id": "5798b28f",
   "metadata": {},
   "outputs": [
    {
     "name": "stdout",
     "output_type": "stream",
     "text": [
      "1962.5\n"
     ]
    }
   ],
   "source": [
    "abc = int(input (\"enter radius\"))\n",
    "area = 3.14 *abc*abc\n",
    "print (area)"
   ]
  },
  {
   "cell_type": "code",
   "execution_count": 8,
   "id": "ede8f088",
   "metadata": {},
   "outputs": [
    {
     "name": "stdout",
     "output_type": "stream",
     "text": [
      "True\n"
     ]
    }
   ],
   "source": [
    "is_coding_easy = True\n",
    "print(is_coding_easy)"
   ]
  },
  {
   "cell_type": "code",
   "execution_count": 15,
   "id": "65605488",
   "metadata": {},
   "outputs": [
    {
     "name": "stdout",
     "output_type": "stream",
     "text": [
      "2\n"
     ]
    }
   ],
   "source": [
    "x = 2\n",
    "print(x)"
   ]
  },
  {
   "cell_type": "code",
   "execution_count": 2,
   "id": "3a0ce7b2",
   "metadata": {},
   "outputs": [
    {
     "name": "stdout",
     "output_type": "stream",
     "text": [
      "<class 'int'>\n"
     ]
    }
   ],
   "source": [
    "a = 5\n",
    "type(a)\n",
    "print(type(a))"
   ]
  },
  {
   "cell_type": "code",
   "execution_count": 34,
   "id": "13dd49e4",
   "metadata": {},
   "outputs": [
    {
     "name": "stdout",
     "output_type": "stream",
     "text": [
      "252\n"
     ]
    }
   ],
   "source": [
    "rad = int(input('Enter Radius'))\n",
    "area = 42 * rad\n",
    "print(area)"
   ]
  },
  {
   "cell_type": "code",
   "execution_count": 43,
   "id": "1afdd579",
   "metadata": {},
   "outputs": [
    {
     "data": {
      "text/plain": [
       "False"
      ]
     },
     "execution_count": 43,
     "metadata": {},
     "output_type": "execute_result"
    }
   ],
   "source": [
    "x = [1,3,5]\n",
    "y = [1,3,5]\n",
    "(x is y)"
   ]
  },
  {
   "cell_type": "code",
   "execution_count": 42,
   "id": "0c12e3a6",
   "metadata": {},
   "outputs": [
    {
     "data": {
      "text/plain": [
       "True"
      ]
     },
     "execution_count": 42,
     "metadata": {},
     "output_type": "execute_result"
    }
   ],
   "source": [
    "x = 8\n",
    "y = 8\n",
    "x is y"
   ]
  },
  {
   "cell_type": "code",
   "execution_count": null,
   "id": "2359600a",
   "metadata": {},
   "outputs": [],
   "source": []
  }
 ],
 "metadata": {
  "kernelspec": {
   "display_name": "base",
   "language": "python",
   "name": "python3"
  },
  "language_info": {
   "codemirror_mode": {
    "name": "ipython",
    "version": 3
   },
   "file_extension": ".py",
   "mimetype": "text/x-python",
   "name": "python",
   "nbconvert_exporter": "python",
   "pygments_lexer": "ipython3",
   "version": "3.13.5"
  }
 },
 "nbformat": 4,
 "nbformat_minor": 5
}
