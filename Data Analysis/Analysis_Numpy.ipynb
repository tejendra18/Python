{
 "cells": [
  {
   "cell_type": "code",
   "execution_count": 1,
   "id": "e8890a5a",
   "metadata": {},
   "outputs": [],
   "source": [
    "import numpy as np"
   ]
  },
  {
   "cell_type": "code",
   "execution_count": 6,
   "id": "db2702ef",
   "metadata": {},
   "outputs": [
    {
     "name": "stdout",
     "output_type": "stream",
     "text": [
      "[1 2 3 4 5]\n"
     ]
    }
   ],
   "source": [
    "a=np.array([1,2,3,4,5]) #1d array\n",
    "print(a)"
   ]
  },
  {
   "cell_type": "code",
   "execution_count": 3,
   "id": "94175e62",
   "metadata": {},
   "outputs": [
    {
     "data": {
      "text/plain": [
       "numpy.ndarray"
      ]
     },
     "execution_count": 3,
     "metadata": {},
     "output_type": "execute_result"
    }
   ],
   "source": [
    "type(a)"
   ]
  },
  {
   "cell_type": "code",
   "execution_count": 10,
   "id": "c239cfd0",
   "metadata": {},
   "outputs": [
    {
     "name": "stdout",
     "output_type": "stream",
     "text": [
      "[[1 2 3]\n",
      " [4 5 6]]\n"
     ]
    }
   ],
   "source": [
    "#2d array\n",
    "a2=np.array([[1,2,3],[4,5,6]])\n",
    "print(a2)"
   ]
  },
  {
   "cell_type": "code",
   "execution_count": 11,
   "id": "78c26d2a",
   "metadata": {},
   "outputs": [
    {
     "name": "stdout",
     "output_type": "stream",
     "text": [
      "[[[ 1  2  3]\n",
      "  [ 4  5  6]]\n",
      "\n",
      " [[ 7  8  9]\n",
      "  [10 11 12]]]\n",
      "[[[1 5 6]\n",
      "  [8 6 8]]\n",
      "\n",
      " [[5 6 5]\n",
      "  [8 5 2]]]\n",
      "[[1 5 9]\n",
      " [5 6 4]]\n"
     ]
    }
   ],
   "source": [
    "#3d array\n",
    "a3=np.array([[[1,2,3],[4,5,6]],[[7,8,9],[10,11,12]]])\n",
    "print(a3)\n",
    "\n",
    "\n",
    "#3D array practise\n",
    "a4 = np.array([[[1,5,6],\n",
    "               [8,6,8]],\n",
    "              [[5,6,5],\n",
    "               [8,5,2]]])\n",
    "print(a4)\n",
    "\n",
    "#2D array practise\n",
    "a5 = np.array([[1,5,9],\n",
    "              [5,6,4]])\n",
    "print(a5)"
   ]
  },
  {
   "cell_type": "markdown",
   "id": "5be87f18",
   "metadata": {},
   "source": [
    "Arrange - It creates an array with (start,stop-1,step)"
   ]
  },
  {
   "cell_type": "code",
   "execution_count": 15,
   "id": "96a2337f",
   "metadata": {},
   "outputs": [
    {
     "name": "stdout",
     "output_type": "stream",
     "text": [
      "[0 1 2 3 4 5 6 7 8 9]\n",
      "[ 2  3  4  5  6  7  8  9 10 11 12 13 14 15 16 17 18 19 20]\n"
     ]
    }
   ],
   "source": [
    "ar1=np.arange(10)\n",
    "ar=np.arange(2,21)\n",
    "#ar=np.arange(2,11,2)\n",
    "print(ar1)\n",
    "print(ar)\n"
   ]
  },
  {
   "cell_type": "markdown",
   "id": "472b4106",
   "metadata": {},
   "source": [
    "Array Multiplication"
   ]
  },
  {
   "cell_type": "code",
   "execution_count": 17,
   "id": "d7fe2410",
   "metadata": {},
   "outputs": [],
   "source": [
    "x=np.array([[7,2,3],\n",
    "            [2,5,2],\n",
    "            [3,5,1]])\n",
    "\n",
    "y=np.array([[1,8,3],\n",
    "            [3,7,2],\n",
    "            [2,5,3]])\n"
   ]
  },
  {
   "cell_type": "code",
   "execution_count": null,
   "id": "749a9444",
   "metadata": {},
   "outputs": [
    {
     "name": "stdout",
     "output_type": "stream",
     "text": [
      "[[ 7 16  9]\n",
      " [ 6 35  4]\n",
      " [ 6 25  3]]\n"
     ]
    }
   ],
   "source": [
    "print(x*y) #Normal Multiplication"
   ]
  },
  {
   "cell_type": "code",
   "execution_count": 19,
   "id": "c4854474",
   "metadata": {},
   "outputs": [
    {
     "data": {
      "text/plain": [
       "array([[19, 85, 34],\n",
       "       [21, 61, 22],\n",
       "       [20, 64, 22]])"
      ]
     },
     "execution_count": 19,
     "metadata": {},
     "output_type": "execute_result"
    }
   ],
   "source": [
    "np.dot(x,y) #matrix multiplication alternative\n"
   ]
  },
  {
   "cell_type": "code",
   "execution_count": 20,
   "id": "dc722b37",
   "metadata": {},
   "outputs": [
    {
     "data": {
      "text/plain": [
       "np.int64(12600)"
      ]
     },
     "execution_count": 20,
     "metadata": {},
     "output_type": "execute_result"
    }
   ],
   "source": [
    "x.prod() #element wise multiplication"
   ]
  },
  {
   "cell_type": "markdown",
   "id": "c6a70b53",
   "metadata": {},
   "source": [
    "Every dimension of an array is an axis:\n",
    "  1D array → only axis=0\n",
    "  2D array → axis=0 (columns), axis=1 (rows)\n",
    "  3D array → axis=0 (layers), axis=1 (rows), axis=2 (columns)"
   ]
  },
  {
   "cell_type": "code",
   "execution_count": 21,
   "id": "ea5f0ff9",
   "metadata": {},
   "outputs": [
    {
     "data": {
      "text/plain": [
       "array([4., 3., 3.])"
      ]
     },
     "execution_count": 21,
     "metadata": {},
     "output_type": "execute_result"
    }
   ],
   "source": [
    "x.mean(axis = 1) #average of each row\n"
   ]
  },
  {
   "cell_type": "code",
   "execution_count": null,
   "id": "2a2d51e8",
   "metadata": {},
   "outputs": [
    {
     "name": "stdout",
     "output_type": "stream",
     "text": [
      "30\n",
      "[12 12  6]\n"
     ]
    },
    {
     "ename": "AxisError",
     "evalue": "axis 3 is out of bounds for array of dimension 2",
     "output_type": "error",
     "traceback": [
      "\u001b[31m---------------------------------------------------------------------------\u001b[39m",
      "\u001b[31mAxisError\u001b[39m                                 Traceback (most recent call last)",
      "\u001b[36mCell\u001b[39m\u001b[36m \u001b[39m\u001b[32mIn[22]\u001b[39m\u001b[32m, line 3\u001b[39m\n\u001b[32m      1\u001b[39m \u001b[38;5;28mprint\u001b[39m(x.sum())\n\u001b[32m      2\u001b[39m \u001b[38;5;28mprint\u001b[39m(x.sum(axis = \u001b[32m0\u001b[39m))\n\u001b[32m----> \u001b[39m\u001b[32m3\u001b[39m \u001b[38;5;28mprint\u001b[39m(x.sum(axis=\u001b[32m3\u001b[39m))\n",
      "\u001b[36mFile \u001b[39m\u001b[32mc:\\Users\\singh\\miniconda3\\Lib\\site-packages\\numpy\\_core\\_methods.py:51\u001b[39m, in \u001b[36m_sum\u001b[39m\u001b[34m(a, axis, dtype, out, keepdims, initial, where)\u001b[39m\n\u001b[32m     49\u001b[39m \u001b[38;5;28;01mdef\u001b[39;00m\u001b[38;5;250m \u001b[39m\u001b[34m_sum\u001b[39m(a, axis=\u001b[38;5;28;01mNone\u001b[39;00m, dtype=\u001b[38;5;28;01mNone\u001b[39;00m, out=\u001b[38;5;28;01mNone\u001b[39;00m, keepdims=\u001b[38;5;28;01mFalse\u001b[39;00m,\n\u001b[32m     50\u001b[39m          initial=_NoValue, where=\u001b[38;5;28;01mTrue\u001b[39;00m):\n\u001b[32m---> \u001b[39m\u001b[32m51\u001b[39m     \u001b[38;5;28;01mreturn\u001b[39;00m umr_sum(a, axis, dtype, out, keepdims, initial, where)\n",
      "\u001b[31mAxisError\u001b[39m: axis 3 is out of bounds for array of dimension 2"
     ]
    }
   ],
   "source": [
    "print(x.sum()) #sum of all elements\n",
    "print(x.sum(axis = 0)) #sum of columns\n",
    "print(x.sum(axis=3)) #not applicable because only used till axis=2 in 3d array"
   ]
  },
  {
   "cell_type": "code",
   "execution_count": 25,
   "id": "3c84c470",
   "metadata": {},
   "outputs": [
    {
     "name": "stdout",
     "output_type": "stream",
     "text": [
      "1.8257418583505538\n",
      "3.3333333333333335\n"
     ]
    }
   ],
   "source": [
    "print(x.std()) #Standard Deviation \n",
    "print(x.var()) #Variance"
   ]
  },
  {
   "cell_type": "code",
   "execution_count": null,
   "id": "63dee665",
   "metadata": {},
   "outputs": [
    {
     "name": "stdout",
     "output_type": "stream",
     "text": [
      "5.0\n",
      "3.0\n",
      "7.0\n"
     ]
    }
   ],
   "source": [
    "a=np.array([1,2,3,4,5,6,7,8,9])\n",
    "print(np.percentile(a,50)) #median(50th position)\n",
    "print(np.percentile(a,25)) #1st quartile (25th position)\n",
    "print(np.percentile(a,75)) #3rd quartile (75th position) "
   ]
  },
  {
   "cell_type": "code",
   "execution_count": 37,
   "id": "9d561d13",
   "metadata": {},
   "outputs": [
    {
     "name": "stdout",
     "output_type": "stream",
     "text": [
      "[[89 41 32 85]\n",
      " [41 93 42 78]\n",
      " [11 49 56 30]\n",
      " [69 26 98 64]]\n",
      "[[[45 11 49 12]\n",
      "  [53 43 28 94]\n",
      "  [36 79 28 37]\n",
      "  [71 59 11 31]]\n",
      "\n",
      " [[74 26 11 41]\n",
      "  [41 81 31 51]\n",
      "  [56 53 98 16]\n",
      "  [71 50 59 47]]\n",
      "\n",
      " [[84 89 42 11]\n",
      "  [52 51 29 19]\n",
      "  [94 52 99 98]\n",
      "  [51 56 41 11]]]\n"
     ]
    }
   ],
   "source": [
    "b=np.random.randint(11,100, size=(4,4)) #Generates a matrix of random integers with specific size\n",
    "print(b)\n",
    "\n",
    "\n",
    "b=np.random.randint(11,100, size=(3,4,4))\n",
    "print(b)"
   ]
  },
  {
   "cell_type": "markdown",
   "id": "3fbc8089",
   "metadata": {},
   "source": [
    "Reshape - It reshapes the matrix keeping the elements and the number of elemnts same only changing its size"
   ]
  },
  {
   "cell_type": "code",
   "execution_count": 40,
   "id": "8b060c9a",
   "metadata": {},
   "outputs": [
    {
     "name": "stdout",
     "output_type": "stream",
     "text": [
      "[[20 44 65 49]\n",
      " [67 56 96 26]\n",
      " [62 81 83 70]\n",
      " [85 83 52 68]]\n",
      "2x8\n",
      "[[20 44 65 49 67 56 96 26]\n",
      " [62 81 83 70 85 83 52 68]]\n",
      "8X2\n",
      "[[20 44]\n",
      " [65 49]\n",
      " [67 56]\n",
      " [96 26]\n",
      " [62 81]\n",
      " [83 70]\n",
      " [85 83]\n",
      " [52 68]]\n"
     ]
    }
   ],
   "source": [
    "b=np.random.randint(11,100, size=(4,4))\n",
    "print(b)\n",
    "\n",
    "print('2x8')\n",
    "print(b.reshape(2,8))\n",
    "print('8X2')\n",
    "print(b.reshape(8,2))"
   ]
  },
  {
   "cell_type": "code",
   "execution_count": null,
   "id": "0fde640b",
   "metadata": {},
   "outputs": [
    {
     "name": "stdout",
     "output_type": "stream",
     "text": [
      "[[36 33 64 87]\n",
      " [56 54 67 51]\n",
      " [16 82 91 33]\n",
      " [63 37 43 55]]\n",
      "[36 33 64 87]\n",
      "33\n",
      "[63 37 43 55]\n",
      "---------\n",
      "[[36 33 64 87]\n",
      " [56 54 67 51]\n",
      " [16 82 91 33]]\n",
      "---------\n",
      "[[63 37 43 55]]\n"
     ]
    }
   ],
   "source": [
    "#Indexing and slicicng in arrays\n",
    "b=np.random.randint(11,100, size=(4,4))\n",
    "print(b)\n",
    "\n",
    "\n",
    "#Acess different elements in a matrix\n",
    "print(b[0]) #1st row\n",
    "print(b[0,1]) #1st row 2nd column\n",
    "print(b[-1]) #last row\n",
    "print('---------')\n",
    "print(b[:3]) #1st 3 rows\n",
    "print('---------') \n",
    "print(b[3:]) #last row"
   ]
  },
  {
   "cell_type": "code",
   "execution_count": null,
   "id": "ef353482",
   "metadata": {},
   "outputs": [
    {
     "name": "stdout",
     "output_type": "stream",
     "text": [
      "[[[ 1  2  3]\n",
      "  [ 4  5  6]]\n",
      "\n",
      " [[ 7  8  9]\n",
      "  [10 11 12]]]\n"
     ]
    }
   ],
   "source": [
    ".array([\n",
    "    [[1, 2, 3], [4, 5, 6]],\n",
    "    [[7, 8, 9], [10, 11, 12]]\n",
    "])\n",
    "\n",
    "print(a3)a3 = np"
   ]
  }
 ],
 "metadata": {
  "kernelspec": {
   "display_name": "base",
   "language": "python",
   "name": "python3"
  },
  "language_info": {
   "codemirror_mode": {
    "name": "ipython",
    "version": 3
   },
   "file_extension": ".py",
   "mimetype": "text/x-python",
   "name": "python",
   "nbconvert_exporter": "python",
   "pygments_lexer": "ipython3",
   "version": "3.13.5"
  }
 },
 "nbformat": 4,
 "nbformat_minor": 5
}
